{
  "nbformat": 4,
  "nbformat_minor": 0,
  "metadata": {
    "colab": {
      "provenance": [],
      "authorship_tag": "ABX9TyObDFhJ/uzNv0EsXrt3LmaW",
      "include_colab_link": true
    },
    "kernelspec": {
      "name": "python3",
      "display_name": "Python 3"
    },
    "language_info": {
      "name": "python"
    }
  },
  "cells": [
    {
      "cell_type": "markdown",
      "metadata": {
        "id": "view-in-github",
        "colab_type": "text"
      },
      "source": [
        "<a href=\"https://colab.research.google.com/github/chrisjason0505/DIABETES-HEALTH-INDICATORS-DS/blob/main/diabetesindicators.ipynb\" target=\"_parent\"><img src=\"https://colab.research.google.com/assets/colab-badge.svg\" alt=\"Open In Colab\"/></a>"
      ]
    },
    {
      "cell_type": "code",
      "execution_count": 2,
      "metadata": {
        "colab": {
          "base_uri": "https://localhost:8080/",
          "height": 73
        },
        "collapsed": true,
        "id": "mF6feJr9T9gA",
        "outputId": "f872c2a3-8e81-457d-9cbe-65bd8a20a96b"
      },
      "outputs": [
        {
          "output_type": "display_data",
          "data": {
            "text/plain": [
              "<IPython.core.display.HTML object>"
            ],
            "text/html": [
              "\n",
              "     <input type=\"file\" id=\"files-6547157b-1627-4453-8314-ff179e39554b\" name=\"files[]\" multiple disabled\n",
              "        style=\"border:none\" />\n",
              "     <output id=\"result-6547157b-1627-4453-8314-ff179e39554b\">\n",
              "      Upload widget is only available when the cell has been executed in the\n",
              "      current browser session. Please rerun this cell to enable.\n",
              "      </output>\n",
              "      <script>// Copyright 2017 Google LLC\n",
              "//\n",
              "// Licensed under the Apache License, Version 2.0 (the \"License\");\n",
              "// you may not use this file except in compliance with the License.\n",
              "// You may obtain a copy of the License at\n",
              "//\n",
              "//      http://www.apache.org/licenses/LICENSE-2.0\n",
              "//\n",
              "// Unless required by applicable law or agreed to in writing, software\n",
              "// distributed under the License is distributed on an \"AS IS\" BASIS,\n",
              "// WITHOUT WARRANTIES OR CONDITIONS OF ANY KIND, either express or implied.\n",
              "// See the License for the specific language governing permissions and\n",
              "// limitations under the License.\n",
              "\n",
              "/**\n",
              " * @fileoverview Helpers for google.colab Python module.\n",
              " */\n",
              "(function(scope) {\n",
              "function span(text, styleAttributes = {}) {\n",
              "  const element = document.createElement('span');\n",
              "  element.textContent = text;\n",
              "  for (const key of Object.keys(styleAttributes)) {\n",
              "    element.style[key] = styleAttributes[key];\n",
              "  }\n",
              "  return element;\n",
              "}\n",
              "\n",
              "// Max number of bytes which will be uploaded at a time.\n",
              "const MAX_PAYLOAD_SIZE = 100 * 1024;\n",
              "\n",
              "function _uploadFiles(inputId, outputId) {\n",
              "  const steps = uploadFilesStep(inputId, outputId);\n",
              "  const outputElement = document.getElementById(outputId);\n",
              "  // Cache steps on the outputElement to make it available for the next call\n",
              "  // to uploadFilesContinue from Python.\n",
              "  outputElement.steps = steps;\n",
              "\n",
              "  return _uploadFilesContinue(outputId);\n",
              "}\n",
              "\n",
              "// This is roughly an async generator (not supported in the browser yet),\n",
              "// where there are multiple asynchronous steps and the Python side is going\n",
              "// to poll for completion of each step.\n",
              "// This uses a Promise to block the python side on completion of each step,\n",
              "// then passes the result of the previous step as the input to the next step.\n",
              "function _uploadFilesContinue(outputId) {\n",
              "  const outputElement = document.getElementById(outputId);\n",
              "  const steps = outputElement.steps;\n",
              "\n",
              "  const next = steps.next(outputElement.lastPromiseValue);\n",
              "  return Promise.resolve(next.value.promise).then((value) => {\n",
              "    // Cache the last promise value to make it available to the next\n",
              "    // step of the generator.\n",
              "    outputElement.lastPromiseValue = value;\n",
              "    return next.value.response;\n",
              "  });\n",
              "}\n",
              "\n",
              "/**\n",
              " * Generator function which is called between each async step of the upload\n",
              " * process.\n",
              " * @param {string} inputId Element ID of the input file picker element.\n",
              " * @param {string} outputId Element ID of the output display.\n",
              " * @return {!Iterable<!Object>} Iterable of next steps.\n",
              " */\n",
              "function* uploadFilesStep(inputId, outputId) {\n",
              "  const inputElement = document.getElementById(inputId);\n",
              "  inputElement.disabled = false;\n",
              "\n",
              "  const outputElement = document.getElementById(outputId);\n",
              "  outputElement.innerHTML = '';\n",
              "\n",
              "  const pickedPromise = new Promise((resolve) => {\n",
              "    inputElement.addEventListener('change', (e) => {\n",
              "      resolve(e.target.files);\n",
              "    });\n",
              "  });\n",
              "\n",
              "  const cancel = document.createElement('button');\n",
              "  inputElement.parentElement.appendChild(cancel);\n",
              "  cancel.textContent = 'Cancel upload';\n",
              "  const cancelPromise = new Promise((resolve) => {\n",
              "    cancel.onclick = () => {\n",
              "      resolve(null);\n",
              "    };\n",
              "  });\n",
              "\n",
              "  // Wait for the user to pick the files.\n",
              "  const files = yield {\n",
              "    promise: Promise.race([pickedPromise, cancelPromise]),\n",
              "    response: {\n",
              "      action: 'starting',\n",
              "    }\n",
              "  };\n",
              "\n",
              "  cancel.remove();\n",
              "\n",
              "  // Disable the input element since further picks are not allowed.\n",
              "  inputElement.disabled = true;\n",
              "\n",
              "  if (!files) {\n",
              "    return {\n",
              "      response: {\n",
              "        action: 'complete',\n",
              "      }\n",
              "    };\n",
              "  }\n",
              "\n",
              "  for (const file of files) {\n",
              "    const li = document.createElement('li');\n",
              "    li.append(span(file.name, {fontWeight: 'bold'}));\n",
              "    li.append(span(\n",
              "        `(${file.type || 'n/a'}) - ${file.size} bytes, ` +\n",
              "        `last modified: ${\n",
              "            file.lastModifiedDate ? file.lastModifiedDate.toLocaleDateString() :\n",
              "                                    'n/a'} - `));\n",
              "    const percent = span('0% done');\n",
              "    li.appendChild(percent);\n",
              "\n",
              "    outputElement.appendChild(li);\n",
              "\n",
              "    const fileDataPromise = new Promise((resolve) => {\n",
              "      const reader = new FileReader();\n",
              "      reader.onload = (e) => {\n",
              "        resolve(e.target.result);\n",
              "      };\n",
              "      reader.readAsArrayBuffer(file);\n",
              "    });\n",
              "    // Wait for the data to be ready.\n",
              "    let fileData = yield {\n",
              "      promise: fileDataPromise,\n",
              "      response: {\n",
              "        action: 'continue',\n",
              "      }\n",
              "    };\n",
              "\n",
              "    // Use a chunked sending to avoid message size limits. See b/62115660.\n",
              "    let position = 0;\n",
              "    do {\n",
              "      const length = Math.min(fileData.byteLength - position, MAX_PAYLOAD_SIZE);\n",
              "      const chunk = new Uint8Array(fileData, position, length);\n",
              "      position += length;\n",
              "\n",
              "      const base64 = btoa(String.fromCharCode.apply(null, chunk));\n",
              "      yield {\n",
              "        response: {\n",
              "          action: 'append',\n",
              "          file: file.name,\n",
              "          data: base64,\n",
              "        },\n",
              "      };\n",
              "\n",
              "      let percentDone = fileData.byteLength === 0 ?\n",
              "          100 :\n",
              "          Math.round((position / fileData.byteLength) * 100);\n",
              "      percent.textContent = `${percentDone}% done`;\n",
              "\n",
              "    } while (position < fileData.byteLength);\n",
              "  }\n",
              "\n",
              "  // All done.\n",
              "  yield {\n",
              "    response: {\n",
              "      action: 'complete',\n",
              "    }\n",
              "  };\n",
              "}\n",
              "\n",
              "scope.google = scope.google || {};\n",
              "scope.google.colab = scope.google.colab || {};\n",
              "scope.google.colab._files = {\n",
              "  _uploadFiles,\n",
              "  _uploadFilesContinue,\n",
              "};\n",
              "})(self);\n",
              "</script> "
            ]
          },
          "metadata": {}
        },
        {
          "output_type": "stream",
          "name": "stdout",
          "text": [
            "Saving diabetes_012_health_indicators_BRFSS2015.csv to diabetes_012_health_indicators_BRFSS2015.csv\n"
          ]
        }
      ],
      "source": [
        "from google.colab import files\n",
        "import pandas as pd\n",
        "\n",
        "uploaded = files.upload()  # This opens the upload dialog in Colab\n",
        "\n",
        "\n"
      ]
    },
    {
      "cell_type": "code",
      "source": [
        "# Load into pandas dataframe\n",
        "df = pd.read_csv(\"diabetes_012_health_indicators_BRFSS2015.csv\")"
      ],
      "metadata": {
        "id": "2wNoLzougPpb"
      },
      "execution_count": 3,
      "outputs": []
    },
    {
      "cell_type": "code",
      "source": [
        "df.describe()\n",
        "df.head()\n",
        "#df.info()\n"
      ],
      "metadata": {
        "colab": {
          "base_uri": "https://localhost:8080/",
          "height": 255
        },
        "id": "a6EdaRQfVsOT",
        "outputId": "1024d161-c0fd-4af2-aa25-a4ad2a4f3b88"
      },
      "execution_count": 4,
      "outputs": [
        {
          "output_type": "execute_result",
          "data": {
            "text/plain": [
              "   Diabetes_012  HighBP  HighChol  CholCheck   BMI  Smoker  Stroke  \\\n",
              "0           0.0     1.0       1.0        1.0  40.0     1.0     0.0   \n",
              "1           0.0     0.0       0.0        0.0  25.0     1.0     0.0   \n",
              "2           0.0     1.0       1.0        1.0  28.0     0.0     0.0   \n",
              "3           0.0     1.0       0.0        1.0  27.0     0.0     0.0   \n",
              "4           0.0     1.0       1.0        1.0  24.0     0.0     0.0   \n",
              "\n",
              "   HeartDiseaseorAttack  PhysActivity  Fruits  ...  AnyHealthcare  \\\n",
              "0                   0.0           0.0     0.0  ...            1.0   \n",
              "1                   0.0           1.0     0.0  ...            0.0   \n",
              "2                   0.0           0.0     1.0  ...            1.0   \n",
              "3                   0.0           1.0     1.0  ...            1.0   \n",
              "4                   0.0           1.0     1.0  ...            1.0   \n",
              "\n",
              "   NoDocbcCost  GenHlth  MentHlth  PhysHlth  DiffWalk  Sex   Age  Education  \\\n",
              "0          0.0      5.0      18.0      15.0       1.0  0.0   9.0        4.0   \n",
              "1          1.0      3.0       0.0       0.0       0.0  0.0   7.0        6.0   \n",
              "2          1.0      5.0      30.0      30.0       1.0  0.0   9.0        4.0   \n",
              "3          0.0      2.0       0.0       0.0       0.0  0.0  11.0        3.0   \n",
              "4          0.0      2.0       3.0       0.0       0.0  0.0  11.0        5.0   \n",
              "\n",
              "   Income  \n",
              "0     3.0  \n",
              "1     1.0  \n",
              "2     8.0  \n",
              "3     6.0  \n",
              "4     4.0  \n",
              "\n",
              "[5 rows x 22 columns]"
            ],
            "text/html": [
              "\n",
              "  <div id=\"df-d9667002-e0ba-4daf-b70f-e0a8f593f371\" class=\"colab-df-container\">\n",
              "    <div>\n",
              "<style scoped>\n",
              "    .dataframe tbody tr th:only-of-type {\n",
              "        vertical-align: middle;\n",
              "    }\n",
              "\n",
              "    .dataframe tbody tr th {\n",
              "        vertical-align: top;\n",
              "    }\n",
              "\n",
              "    .dataframe thead th {\n",
              "        text-align: right;\n",
              "    }\n",
              "</style>\n",
              "<table border=\"1\" class=\"dataframe\">\n",
              "  <thead>\n",
              "    <tr style=\"text-align: right;\">\n",
              "      <th></th>\n",
              "      <th>Diabetes_012</th>\n",
              "      <th>HighBP</th>\n",
              "      <th>HighChol</th>\n",
              "      <th>CholCheck</th>\n",
              "      <th>BMI</th>\n",
              "      <th>Smoker</th>\n",
              "      <th>Stroke</th>\n",
              "      <th>HeartDiseaseorAttack</th>\n",
              "      <th>PhysActivity</th>\n",
              "      <th>Fruits</th>\n",
              "      <th>...</th>\n",
              "      <th>AnyHealthcare</th>\n",
              "      <th>NoDocbcCost</th>\n",
              "      <th>GenHlth</th>\n",
              "      <th>MentHlth</th>\n",
              "      <th>PhysHlth</th>\n",
              "      <th>DiffWalk</th>\n",
              "      <th>Sex</th>\n",
              "      <th>Age</th>\n",
              "      <th>Education</th>\n",
              "      <th>Income</th>\n",
              "    </tr>\n",
              "  </thead>\n",
              "  <tbody>\n",
              "    <tr>\n",
              "      <th>0</th>\n",
              "      <td>0.0</td>\n",
              "      <td>1.0</td>\n",
              "      <td>1.0</td>\n",
              "      <td>1.0</td>\n",
              "      <td>40.0</td>\n",
              "      <td>1.0</td>\n",
              "      <td>0.0</td>\n",
              "      <td>0.0</td>\n",
              "      <td>0.0</td>\n",
              "      <td>0.0</td>\n",
              "      <td>...</td>\n",
              "      <td>1.0</td>\n",
              "      <td>0.0</td>\n",
              "      <td>5.0</td>\n",
              "      <td>18.0</td>\n",
              "      <td>15.0</td>\n",
              "      <td>1.0</td>\n",
              "      <td>0.0</td>\n",
              "      <td>9.0</td>\n",
              "      <td>4.0</td>\n",
              "      <td>3.0</td>\n",
              "    </tr>\n",
              "    <tr>\n",
              "      <th>1</th>\n",
              "      <td>0.0</td>\n",
              "      <td>0.0</td>\n",
              "      <td>0.0</td>\n",
              "      <td>0.0</td>\n",
              "      <td>25.0</td>\n",
              "      <td>1.0</td>\n",
              "      <td>0.0</td>\n",
              "      <td>0.0</td>\n",
              "      <td>1.0</td>\n",
              "      <td>0.0</td>\n",
              "      <td>...</td>\n",
              "      <td>0.0</td>\n",
              "      <td>1.0</td>\n",
              "      <td>3.0</td>\n",
              "      <td>0.0</td>\n",
              "      <td>0.0</td>\n",
              "      <td>0.0</td>\n",
              "      <td>0.0</td>\n",
              "      <td>7.0</td>\n",
              "      <td>6.0</td>\n",
              "      <td>1.0</td>\n",
              "    </tr>\n",
              "    <tr>\n",
              "      <th>2</th>\n",
              "      <td>0.0</td>\n",
              "      <td>1.0</td>\n",
              "      <td>1.0</td>\n",
              "      <td>1.0</td>\n",
              "      <td>28.0</td>\n",
              "      <td>0.0</td>\n",
              "      <td>0.0</td>\n",
              "      <td>0.0</td>\n",
              "      <td>0.0</td>\n",
              "      <td>1.0</td>\n",
              "      <td>...</td>\n",
              "      <td>1.0</td>\n",
              "      <td>1.0</td>\n",
              "      <td>5.0</td>\n",
              "      <td>30.0</td>\n",
              "      <td>30.0</td>\n",
              "      <td>1.0</td>\n",
              "      <td>0.0</td>\n",
              "      <td>9.0</td>\n",
              "      <td>4.0</td>\n",
              "      <td>8.0</td>\n",
              "    </tr>\n",
              "    <tr>\n",
              "      <th>3</th>\n",
              "      <td>0.0</td>\n",
              "      <td>1.0</td>\n",
              "      <td>0.0</td>\n",
              "      <td>1.0</td>\n",
              "      <td>27.0</td>\n",
              "      <td>0.0</td>\n",
              "      <td>0.0</td>\n",
              "      <td>0.0</td>\n",
              "      <td>1.0</td>\n",
              "      <td>1.0</td>\n",
              "      <td>...</td>\n",
              "      <td>1.0</td>\n",
              "      <td>0.0</td>\n",
              "      <td>2.0</td>\n",
              "      <td>0.0</td>\n",
              "      <td>0.0</td>\n",
              "      <td>0.0</td>\n",
              "      <td>0.0</td>\n",
              "      <td>11.0</td>\n",
              "      <td>3.0</td>\n",
              "      <td>6.0</td>\n",
              "    </tr>\n",
              "    <tr>\n",
              "      <th>4</th>\n",
              "      <td>0.0</td>\n",
              "      <td>1.0</td>\n",
              "      <td>1.0</td>\n",
              "      <td>1.0</td>\n",
              "      <td>24.0</td>\n",
              "      <td>0.0</td>\n",
              "      <td>0.0</td>\n",
              "      <td>0.0</td>\n",
              "      <td>1.0</td>\n",
              "      <td>1.0</td>\n",
              "      <td>...</td>\n",
              "      <td>1.0</td>\n",
              "      <td>0.0</td>\n",
              "      <td>2.0</td>\n",
              "      <td>3.0</td>\n",
              "      <td>0.0</td>\n",
              "      <td>0.0</td>\n",
              "      <td>0.0</td>\n",
              "      <td>11.0</td>\n",
              "      <td>5.0</td>\n",
              "      <td>4.0</td>\n",
              "    </tr>\n",
              "  </tbody>\n",
              "</table>\n",
              "<p>5 rows × 22 columns</p>\n",
              "</div>\n",
              "    <div class=\"colab-df-buttons\">\n",
              "\n",
              "  <div class=\"colab-df-container\">\n",
              "    <button class=\"colab-df-convert\" onclick=\"convertToInteractive('df-d9667002-e0ba-4daf-b70f-e0a8f593f371')\"\n",
              "            title=\"Convert this dataframe to an interactive table.\"\n",
              "            style=\"display:none;\">\n",
              "\n",
              "  <svg xmlns=\"http://www.w3.org/2000/svg\" height=\"24px\" viewBox=\"0 -960 960 960\">\n",
              "    <path d=\"M120-120v-720h720v720H120Zm60-500h600v-160H180v160Zm220 220h160v-160H400v160Zm0 220h160v-160H400v160ZM180-400h160v-160H180v160Zm440 0h160v-160H620v160ZM180-180h160v-160H180v160Zm440 0h160v-160H620v160Z\"/>\n",
              "  </svg>\n",
              "    </button>\n",
              "\n",
              "  <style>\n",
              "    .colab-df-container {\n",
              "      display:flex;\n",
              "      gap: 12px;\n",
              "    }\n",
              "\n",
              "    .colab-df-convert {\n",
              "      background-color: #E8F0FE;\n",
              "      border: none;\n",
              "      border-radius: 50%;\n",
              "      cursor: pointer;\n",
              "      display: none;\n",
              "      fill: #1967D2;\n",
              "      height: 32px;\n",
              "      padding: 0 0 0 0;\n",
              "      width: 32px;\n",
              "    }\n",
              "\n",
              "    .colab-df-convert:hover {\n",
              "      background-color: #E2EBFA;\n",
              "      box-shadow: 0px 1px 2px rgba(60, 64, 67, 0.3), 0px 1px 3px 1px rgba(60, 64, 67, 0.15);\n",
              "      fill: #174EA6;\n",
              "    }\n",
              "\n",
              "    .colab-df-buttons div {\n",
              "      margin-bottom: 4px;\n",
              "    }\n",
              "\n",
              "    [theme=dark] .colab-df-convert {\n",
              "      background-color: #3B4455;\n",
              "      fill: #D2E3FC;\n",
              "    }\n",
              "\n",
              "    [theme=dark] .colab-df-convert:hover {\n",
              "      background-color: #434B5C;\n",
              "      box-shadow: 0px 1px 3px 1px rgba(0, 0, 0, 0.15);\n",
              "      filter: drop-shadow(0px 1px 2px rgba(0, 0, 0, 0.3));\n",
              "      fill: #FFFFFF;\n",
              "    }\n",
              "  </style>\n",
              "\n",
              "    <script>\n",
              "      const buttonEl =\n",
              "        document.querySelector('#df-d9667002-e0ba-4daf-b70f-e0a8f593f371 button.colab-df-convert');\n",
              "      buttonEl.style.display =\n",
              "        google.colab.kernel.accessAllowed ? 'block' : 'none';\n",
              "\n",
              "      async function convertToInteractive(key) {\n",
              "        const element = document.querySelector('#df-d9667002-e0ba-4daf-b70f-e0a8f593f371');\n",
              "        const dataTable =\n",
              "          await google.colab.kernel.invokeFunction('convertToInteractive',\n",
              "                                                    [key], {});\n",
              "        if (!dataTable) return;\n",
              "\n",
              "        const docLinkHtml = 'Like what you see? Visit the ' +\n",
              "          '<a target=\"_blank\" href=https://colab.research.google.com/notebooks/data_table.ipynb>data table notebook</a>'\n",
              "          + ' to learn more about interactive tables.';\n",
              "        element.innerHTML = '';\n",
              "        dataTable['output_type'] = 'display_data';\n",
              "        await google.colab.output.renderOutput(dataTable, element);\n",
              "        const docLink = document.createElement('div');\n",
              "        docLink.innerHTML = docLinkHtml;\n",
              "        element.appendChild(docLink);\n",
              "      }\n",
              "    </script>\n",
              "  </div>\n",
              "\n",
              "\n",
              "    <div id=\"df-e1da7a8c-f0ee-4156-9357-44bef06208ed\">\n",
              "      <button class=\"colab-df-quickchart\" onclick=\"quickchart('df-e1da7a8c-f0ee-4156-9357-44bef06208ed')\"\n",
              "                title=\"Suggest charts\"\n",
              "                style=\"display:none;\">\n",
              "\n",
              "<svg xmlns=\"http://www.w3.org/2000/svg\" height=\"24px\"viewBox=\"0 0 24 24\"\n",
              "     width=\"24px\">\n",
              "    <g>\n",
              "        <path d=\"M19 3H5c-1.1 0-2 .9-2 2v14c0 1.1.9 2 2 2h14c1.1 0 2-.9 2-2V5c0-1.1-.9-2-2-2zM9 17H7v-7h2v7zm4 0h-2V7h2v10zm4 0h-2v-4h2v4z\"/>\n",
              "    </g>\n",
              "</svg>\n",
              "      </button>\n",
              "\n",
              "<style>\n",
              "  .colab-df-quickchart {\n",
              "      --bg-color: #E8F0FE;\n",
              "      --fill-color: #1967D2;\n",
              "      --hover-bg-color: #E2EBFA;\n",
              "      --hover-fill-color: #174EA6;\n",
              "      --disabled-fill-color: #AAA;\n",
              "      --disabled-bg-color: #DDD;\n",
              "  }\n",
              "\n",
              "  [theme=dark] .colab-df-quickchart {\n",
              "      --bg-color: #3B4455;\n",
              "      --fill-color: #D2E3FC;\n",
              "      --hover-bg-color: #434B5C;\n",
              "      --hover-fill-color: #FFFFFF;\n",
              "      --disabled-bg-color: #3B4455;\n",
              "      --disabled-fill-color: #666;\n",
              "  }\n",
              "\n",
              "  .colab-df-quickchart {\n",
              "    background-color: var(--bg-color);\n",
              "    border: none;\n",
              "    border-radius: 50%;\n",
              "    cursor: pointer;\n",
              "    display: none;\n",
              "    fill: var(--fill-color);\n",
              "    height: 32px;\n",
              "    padding: 0;\n",
              "    width: 32px;\n",
              "  }\n",
              "\n",
              "  .colab-df-quickchart:hover {\n",
              "    background-color: var(--hover-bg-color);\n",
              "    box-shadow: 0 1px 2px rgba(60, 64, 67, 0.3), 0 1px 3px 1px rgba(60, 64, 67, 0.15);\n",
              "    fill: var(--button-hover-fill-color);\n",
              "  }\n",
              "\n",
              "  .colab-df-quickchart-complete:disabled,\n",
              "  .colab-df-quickchart-complete:disabled:hover {\n",
              "    background-color: var(--disabled-bg-color);\n",
              "    fill: var(--disabled-fill-color);\n",
              "    box-shadow: none;\n",
              "  }\n",
              "\n",
              "  .colab-df-spinner {\n",
              "    border: 2px solid var(--fill-color);\n",
              "    border-color: transparent;\n",
              "    border-bottom-color: var(--fill-color);\n",
              "    animation:\n",
              "      spin 1s steps(1) infinite;\n",
              "  }\n",
              "\n",
              "  @keyframes spin {\n",
              "    0% {\n",
              "      border-color: transparent;\n",
              "      border-bottom-color: var(--fill-color);\n",
              "      border-left-color: var(--fill-color);\n",
              "    }\n",
              "    20% {\n",
              "      border-color: transparent;\n",
              "      border-left-color: var(--fill-color);\n",
              "      border-top-color: var(--fill-color);\n",
              "    }\n",
              "    30% {\n",
              "      border-color: transparent;\n",
              "      border-left-color: var(--fill-color);\n",
              "      border-top-color: var(--fill-color);\n",
              "      border-right-color: var(--fill-color);\n",
              "    }\n",
              "    40% {\n",
              "      border-color: transparent;\n",
              "      border-right-color: var(--fill-color);\n",
              "      border-top-color: var(--fill-color);\n",
              "    }\n",
              "    60% {\n",
              "      border-color: transparent;\n",
              "      border-right-color: var(--fill-color);\n",
              "    }\n",
              "    80% {\n",
              "      border-color: transparent;\n",
              "      border-right-color: var(--fill-color);\n",
              "      border-bottom-color: var(--fill-color);\n",
              "    }\n",
              "    90% {\n",
              "      border-color: transparent;\n",
              "      border-bottom-color: var(--fill-color);\n",
              "    }\n",
              "  }\n",
              "</style>\n",
              "\n",
              "      <script>\n",
              "        async function quickchart(key) {\n",
              "          const quickchartButtonEl =\n",
              "            document.querySelector('#' + key + ' button');\n",
              "          quickchartButtonEl.disabled = true;  // To prevent multiple clicks.\n",
              "          quickchartButtonEl.classList.add('colab-df-spinner');\n",
              "          try {\n",
              "            const charts = await google.colab.kernel.invokeFunction(\n",
              "                'suggestCharts', [key], {});\n",
              "          } catch (error) {\n",
              "            console.error('Error during call to suggestCharts:', error);\n",
              "          }\n",
              "          quickchartButtonEl.classList.remove('colab-df-spinner');\n",
              "          quickchartButtonEl.classList.add('colab-df-quickchart-complete');\n",
              "        }\n",
              "        (() => {\n",
              "          let quickchartButtonEl =\n",
              "            document.querySelector('#df-e1da7a8c-f0ee-4156-9357-44bef06208ed button');\n",
              "          quickchartButtonEl.style.display =\n",
              "            google.colab.kernel.accessAllowed ? 'block' : 'none';\n",
              "        })();\n",
              "      </script>\n",
              "    </div>\n",
              "\n",
              "    </div>\n",
              "  </div>\n"
            ],
            "application/vnd.google.colaboratory.intrinsic+json": {
              "type": "dataframe"
            }
          },
          "metadata": {},
          "execution_count": 4
        }
      ]
    },
    {
      "cell_type": "markdown",
      "source": [
        "Let us *feel* our dataset and get an overview on the stats and indicators that we have in our disposal. The dataset we will be working with is **Diabetes Health Indicators Dataset**.\n"
      ],
      "metadata": {
        "id": "tdHSBTWTVxlZ"
      }
    },
    {
      "cell_type": "markdown",
      "source": [
        "We can also see that in this dataset the age has been categorized or encoded as the highest value for age stands at 13 the median being 8  which is *quite unusual*."
      ],
      "metadata": {
        "id": "Ht19uVkZtRAR"
      }
    },
    {
      "cell_type": "code",
      "source": [
        "df['Age'].max()"
      ],
      "metadata": {
        "colab": {
          "base_uri": "https://localhost:8080/"
        },
        "id": "u2dRTBxrtcr2",
        "outputId": "35cc7bcf-7c93-483e-e66c-11aec894541c"
      },
      "execution_count": 5,
      "outputs": [
        {
          "output_type": "execute_result",
          "data": {
            "text/plain": [
              "13.0"
            ]
          },
          "metadata": {},
          "execution_count": 5
        }
      ]
    },
    {
      "cell_type": "code",
      "source": [
        "df['Age'].median()"
      ],
      "metadata": {
        "colab": {
          "base_uri": "https://localhost:8080/"
        },
        "id": "uhLd-q0DtkXe",
        "outputId": "b91c301a-67e2-4a72-af94-c65dad026037"
      },
      "execution_count": 6,
      "outputs": [
        {
          "output_type": "execute_result",
          "data": {
            "text/plain": [
              "8.0"
            ]
          },
          "metadata": {},
          "execution_count": 6
        }
      ]
    },
    {
      "cell_type": "markdown",
      "source": [
        "Our income,education  has also been categorized in a similar manner"
      ],
      "metadata": {
        "id": "Icj3NNaOv3aH"
      }
    },
    {
      "cell_type": "code",
      "source": [
        "df.columns"
      ],
      "metadata": {
        "colab": {
          "base_uri": "https://localhost:8080/"
        },
        "id": "NzmIM3zQaMGF",
        "outputId": "2df05c76-d6ba-444a-d630-1176550806eb"
      },
      "execution_count": 7,
      "outputs": [
        {
          "output_type": "execute_result",
          "data": {
            "text/plain": [
              "Index(['Diabetes_012', 'HighBP', 'HighChol', 'CholCheck', 'BMI', 'Smoker',\n",
              "       'Stroke', 'HeartDiseaseorAttack', 'PhysActivity', 'Fruits', 'Veggies',\n",
              "       'HvyAlcoholConsump', 'AnyHealthcare', 'NoDocbcCost', 'GenHlth',\n",
              "       'MentHlth', 'PhysHlth', 'DiffWalk', 'Sex', 'Age', 'Education',\n",
              "       'Income'],\n",
              "      dtype='object')"
            ]
          },
          "metadata": {},
          "execution_count": 7
        }
      ]
    },
    {
      "cell_type": "code",
      "source": [
        "from sklearn.impute import SimpleImputer\n",
        "from sklearn.preprocessing import LabelEncoder\n",
        "\n",
        "# Separate numerical/categorical\n",
        "num_cols = df.select_dtypes(include=['float64', 'int64']).columns\n",
        "\n",
        "\n",
        "# Impute\n",
        "df[num_cols] = SimpleImputer(strategy='median').fit_transform(df[num_cols])\n",
        "\n",
        "\n",
        "# Encode categorical is done normally but however if u checkin this dateaset there is no need to encode column(s) of a dataset as we only have floatdatatype here so we just do imputation only\n"
      ],
      "metadata": {
        "id": "x0gqR3jbWG1J"
      },
      "execution_count": 8,
      "outputs": []
    },
    {
      "cell_type": "markdown",
      "source": [
        "Categorial encoding is done normally but however if u checkin this dateaset there is no need to encode column(s) of a dataset as we only have floatdatatype here so we just do imputation only.\n",
        "\n",
        "*Actually imputation isnt needed here as all values are filled but nevertheless for demonstration I have included the procedure. whether or not imputation is needed can be checked using:*"
      ],
      "metadata": {
        "id": "91KVC1UqhYSV"
      }
    },
    {
      "cell_type": "code",
      "source": [
        "df.isnull().sum().sort_values(ascending=False)"
      ],
      "metadata": {
        "colab": {
          "base_uri": "https://localhost:8080/",
          "height": 774
        },
        "id": "wgBEvvirkLAG",
        "outputId": "ecadddf4-08b5-4d57-aca2-d6ddad761fa4"
      },
      "execution_count": 9,
      "outputs": [
        {
          "output_type": "execute_result",
          "data": {
            "text/plain": [
              "Diabetes_012            0\n",
              "HighBP                  0\n",
              "HighChol                0\n",
              "CholCheck               0\n",
              "BMI                     0\n",
              "Smoker                  0\n",
              "Stroke                  0\n",
              "HeartDiseaseorAttack    0\n",
              "PhysActivity            0\n",
              "Fruits                  0\n",
              "Veggies                 0\n",
              "HvyAlcoholConsump       0\n",
              "AnyHealthcare           0\n",
              "NoDocbcCost             0\n",
              "GenHlth                 0\n",
              "MentHlth                0\n",
              "PhysHlth                0\n",
              "DiffWalk                0\n",
              "Sex                     0\n",
              "Age                     0\n",
              "Education               0\n",
              "Income                  0\n",
              "dtype: int64"
            ],
            "text/html": [
              "<div>\n",
              "<style scoped>\n",
              "    .dataframe tbody tr th:only-of-type {\n",
              "        vertical-align: middle;\n",
              "    }\n",
              "\n",
              "    .dataframe tbody tr th {\n",
              "        vertical-align: top;\n",
              "    }\n",
              "\n",
              "    .dataframe thead th {\n",
              "        text-align: right;\n",
              "    }\n",
              "</style>\n",
              "<table border=\"1\" class=\"dataframe\">\n",
              "  <thead>\n",
              "    <tr style=\"text-align: right;\">\n",
              "      <th></th>\n",
              "      <th>0</th>\n",
              "    </tr>\n",
              "  </thead>\n",
              "  <tbody>\n",
              "    <tr>\n",
              "      <th>Diabetes_012</th>\n",
              "      <td>0</td>\n",
              "    </tr>\n",
              "    <tr>\n",
              "      <th>HighBP</th>\n",
              "      <td>0</td>\n",
              "    </tr>\n",
              "    <tr>\n",
              "      <th>HighChol</th>\n",
              "      <td>0</td>\n",
              "    </tr>\n",
              "    <tr>\n",
              "      <th>CholCheck</th>\n",
              "      <td>0</td>\n",
              "    </tr>\n",
              "    <tr>\n",
              "      <th>BMI</th>\n",
              "      <td>0</td>\n",
              "    </tr>\n",
              "    <tr>\n",
              "      <th>Smoker</th>\n",
              "      <td>0</td>\n",
              "    </tr>\n",
              "    <tr>\n",
              "      <th>Stroke</th>\n",
              "      <td>0</td>\n",
              "    </tr>\n",
              "    <tr>\n",
              "      <th>HeartDiseaseorAttack</th>\n",
              "      <td>0</td>\n",
              "    </tr>\n",
              "    <tr>\n",
              "      <th>PhysActivity</th>\n",
              "      <td>0</td>\n",
              "    </tr>\n",
              "    <tr>\n",
              "      <th>Fruits</th>\n",
              "      <td>0</td>\n",
              "    </tr>\n",
              "    <tr>\n",
              "      <th>Veggies</th>\n",
              "      <td>0</td>\n",
              "    </tr>\n",
              "    <tr>\n",
              "      <th>HvyAlcoholConsump</th>\n",
              "      <td>0</td>\n",
              "    </tr>\n",
              "    <tr>\n",
              "      <th>AnyHealthcare</th>\n",
              "      <td>0</td>\n",
              "    </tr>\n",
              "    <tr>\n",
              "      <th>NoDocbcCost</th>\n",
              "      <td>0</td>\n",
              "    </tr>\n",
              "    <tr>\n",
              "      <th>GenHlth</th>\n",
              "      <td>0</td>\n",
              "    </tr>\n",
              "    <tr>\n",
              "      <th>MentHlth</th>\n",
              "      <td>0</td>\n",
              "    </tr>\n",
              "    <tr>\n",
              "      <th>PhysHlth</th>\n",
              "      <td>0</td>\n",
              "    </tr>\n",
              "    <tr>\n",
              "      <th>DiffWalk</th>\n",
              "      <td>0</td>\n",
              "    </tr>\n",
              "    <tr>\n",
              "      <th>Sex</th>\n",
              "      <td>0</td>\n",
              "    </tr>\n",
              "    <tr>\n",
              "      <th>Age</th>\n",
              "      <td>0</td>\n",
              "    </tr>\n",
              "    <tr>\n",
              "      <th>Education</th>\n",
              "      <td>0</td>\n",
              "    </tr>\n",
              "    <tr>\n",
              "      <th>Income</th>\n",
              "      <td>0</td>\n",
              "    </tr>\n",
              "  </tbody>\n",
              "</table>\n",
              "</div><br><label><b>dtype:</b> int64</label>"
            ]
          },
          "metadata": {},
          "execution_count": 9
        }
      ]
    },
    {
      "cell_type": "markdown",
      "source": [
        "**Imputation? Encoding?**\n",
        "\n",
        " Imputation is basically a technique to fill empty values in columns using frequently occuring values or the median value of the dataset. It keeps the dataset complete in order for models to function.\n",
        "\n",
        "Encoding changes strings into numerical format as it is then readable by machine learning algorithms."
      ],
      "metadata": {
        "id": "OwdShAb2hdE2"
      }
    },
    {
      "cell_type": "markdown",
      "source": [],
      "metadata": {
        "id": "8BZmIIVjjpxf"
      }
    },
    {
      "cell_type": "code",
      "source": [
        "df.shape"
      ],
      "metadata": {
        "colab": {
          "base_uri": "https://localhost:8080/"
        },
        "id": "IM4nvguCi_kV",
        "outputId": "c7a383a5-e969-4bde-8ba2-6ded4b7cb1ea"
      },
      "execution_count": 10,
      "outputs": [
        {
          "output_type": "execute_result",
          "data": {
            "text/plain": [
              "(253680, 22)"
            ]
          },
          "metadata": {},
          "execution_count": 10
        }
      ]
    },
    {
      "cell_type": "markdown",
      "source": [
        " gives us no of *rows* and *columns*"
      ],
      "metadata": {
        "id": "JWqxy6rfjPRS"
      }
    },
    {
      "cell_type": "code",
      "source": [
        "import seaborn as sns\n",
        "import matplotlib.pyplot as plt\n",
        "\n",
        "sns.countplot(x='Diabetes_012', data=df)\n",
        "plt.title(\"Target Class Distribution\")\n"
      ],
      "metadata": {
        "colab": {
          "base_uri": "https://localhost:8080/",
          "height": 489
        },
        "id": "XO7yDm8jjXFw",
        "outputId": "b904988c-c9e8-464c-e6ee-9c7ef256b0ad"
      },
      "execution_count": 11,
      "outputs": [
        {
          "output_type": "execute_result",
          "data": {
            "text/plain": [
              "Text(0.5, 1.0, 'Target Class Distribution')"
            ]
          },
          "metadata": {},
          "execution_count": 11
        },
        {
          "output_type": "display_data",
          "data": {
            "text/plain": [
              "<Figure size 640x480 with 1 Axes>"
            ],
            "image/png": "[encoded data removed]"
          },
          "metadata": {}
        }
      ]
    },
    {
      "cell_type": "markdown",
      "source": [
        "*What does this chart describe?*\n",
        "\n",
        " Well,it is a simple representation of the count of each category of diabetes (0- no diabetes 1- pre diabetes 2-diabetes)"
      ],
      "metadata": {
        "id": "5Bg1ffWzlDyC"
      }
    },
    {
      "cell_type": "code",
      "source": [
        "# Numeric vs target\n",
        "sns.barplot(x='Diabetes_012', y='Income', data=df)\n"
      ],
      "metadata": {
        "colab": {
          "base_uri": "https://localhost:8080/",
          "height": 467
        },
        "id": "RlbYoN0slbRt",
        "outputId": "afbb2863-1c63-46b5-8974-5a00283f0312"
      },
      "execution_count": 12,
      "outputs": [
        {
          "output_type": "execute_result",
          "data": {
            "text/plain": [
              "<Axes: xlabel='Diabetes_012', ylabel='Income'>"
            ]
          },
          "metadata": {},
          "execution_count": 12
        },
        {
          "output_type": "display_data",
          "data": {
            "text/plain": [
              "<Figure size 640x480 with 1 Axes>"
            ],
            "image/png": "[encoded data removed]"
          },
          "metadata": {}
        }
      ]
    },
    {
      "cell_type": "markdown",
      "source": [
        "This bar plot shows that individuals with a diabetes diagnosis (class 2) have lower average income compared to non-diabetic individuals (class 0), indicating a possible negative correlation between income and diabetes prevalence."
      ],
      "metadata": {
        "id": "3-MIBB1-rSZD"
      }
    },
    {
      "cell_type": "code",
      "source": [
        "df[['Income', 'Diabetes_012']].corr()"
      ],
      "metadata": {
        "colab": {
          "base_uri": "https://localhost:8080/",
          "height": 112
        },
        "id": "dzlS7t8st4ED",
        "outputId": "86ee2448-53f1-46f4-c12a-fec7e05614f6"
      },
      "execution_count": 13,
      "outputs": [
        {
          "output_type": "execute_result",
          "data": {
            "text/plain": [
              "                Income  Diabetes_012\n",
              "Income        1.000000     -0.171483\n",
              "Diabetes_012 -0.171483      1.000000"
            ],
            "text/html": [
              "\n",
              "  <div id=\"df-3a3233af-48a3-4378-acc7-1f91cef304c8\" class=\"colab-df-container\">\n",
              "    <div>\n",
              "<style scoped>\n",
              "    .dataframe tbody tr th:only-of-type {\n",
              "        vertical-align: middle;\n",
              "    }\n",
              "\n",
              "    .dataframe tbody tr th {\n",
              "        vertical-align: top;\n",
              "    }\n",
              "\n",
              "    .dataframe thead th {\n",
              "        text-align: right;\n",
              "    }\n",
              "</style>\n",
              "<table border=\"1\" class=\"dataframe\">\n",
              "  <thead>\n",
              "    <tr style=\"text-align: right;\">\n",
              "      <th></th>\n",
              "      <th>Income</th>\n",
              "      <th>Diabetes_012</th>\n",
              "    </tr>\n",
              "  </thead>\n",
              "  <tbody>\n",
              "    <tr>\n",
              "      <th>Income</th>\n",
              "      <td>1.000000</td>\n",
              "      <td>-0.171483</td>\n",
              "    </tr>\n",
              "    <tr>\n",
              "      <th>Diabetes_012</th>\n",
              "      <td>-0.171483</td>\n",
              "      <td>1.000000</td>\n",
              "    </tr>\n",
              "  </tbody>\n",
              "</table>\n",
              "</div>\n",
              "    <div class=\"colab-df-buttons\">\n",
              "\n",
              "  <div class=\"colab-df-container\">\n",
              "    <button class=\"colab-df-convert\" onclick=\"convertToInteractive('df-3a3233af-48a3-4378-acc7-1f91cef304c8')\"\n",
              "            title=\"Convert this dataframe to an interactive table.\"\n",
              "            style=\"display:none;\">\n",
              "\n",
              "  <svg xmlns=\"http://www.w3.org/2000/svg\" height=\"24px\" viewBox=\"0 -960 960 960\">\n",
              "    <path d=\"M120-120v-720h720v720H120Zm60-500h600v-160H180v160Zm220 220h160v-160H400v160Zm0 220h160v-160H400v160ZM180-400h160v-160H180v160Zm440 0h160v-160H620v160ZM180-180h160v-160H180v160Zm440 0h160v-160H620v160Z\"/>\n",
              "  </svg>\n",
              "    </button>\n",
              "\n",
              "  <style>\n",
              "    .colab-df-container {\n",
              "      display:flex;\n",
              "      gap: 12px;\n",
              "    }\n",
              "\n",
              "    .colab-df-convert {\n",
              "      background-color: #E8F0FE;\n",
              "      border: none;\n",
              "      border-radius: 50%;\n",
              "      cursor: pointer;\n",
              "      display: none;\n",
              "      fill: #1967D2;\n",
              "      height: 32px;\n",
              "      padding: 0 0 0 0;\n",
              "      width: 32px;\n",
              "    }\n",
              "\n",
              "    .colab-df-convert:hover {\n",
              "      background-color: #E2EBFA;\n",
              "      box-shadow: 0px 1px 2px rgba(60, 64, 67, 0.3), 0px 1px 3px 1px rgba(60, 64, 67, 0.15);\n",
              "      fill: #174EA6;\n",
              "    }\n",
              "\n",
              "    .colab-df-buttons div {\n",
              "      margin-bottom: 4px;\n",
              "    }\n",
              "\n",
              "    [theme=dark] .colab-df-convert {\n",
              "      background-color: #3B4455;\n",
              "      fill: #D2E3FC;\n",
              "    }\n",
              "\n",
              "    [theme=dark] .colab-df-convert:hover {\n",
              "      background-color: #434B5C;\n",
              "      box-shadow: 0px 1px 3px 1px rgba(0, 0, 0, 0.15);\n",
              "      filter: drop-shadow(0px 1px 2px rgba(0, 0, 0, 0.3));\n",
              "      fill: #FFFFFF;\n",
              "    }\n",
              "  </style>\n",
              "\n",
              "    <script>\n",
              "      const buttonEl =\n",
              "        document.querySelector('#df-3a3233af-48a3-4378-acc7-1f91cef304c8 button.colab-df-convert');\n",
              "      buttonEl.style.display =\n",
              "        google.colab.kernel.accessAllowed ? 'block' : 'none';\n",
              "\n",
              "      async function convertToInteractive(key) {\n",
              "        const element = document.querySelector('#df-3a3233af-48a3-4378-acc7-1f91cef304c8');\n",
              "        const dataTable =\n",
              "          await google.colab.kernel.invokeFunction('convertToInteractive',\n",
              "                                                    [key], {});\n",
              "        if (!dataTable) return;\n",
              "\n",
              "        const docLinkHtml = 'Like what you see? Visit the ' +\n",
              "          '<a target=\"_blank\" href=https://colab.research.google.com/notebooks/data_table.ipynb>data table notebook</a>'\n",
              "          + ' to learn more about interactive tables.';\n",
              "        element.innerHTML = '';\n",
              "        dataTable['output_type'] = 'display_data';\n",
              "        await google.colab.output.renderOutput(dataTable, element);\n",
              "        const docLink = document.createElement('div');\n",
              "        docLink.innerHTML = docLinkHtml;\n",
              "        element.appendChild(docLink);\n",
              "      }\n",
              "    </script>\n",
              "  </div>\n",
              "\n",
              "\n",
              "    <div id=\"df-53bb4ae6-755d-480d-9ecf-31053dbc2e89\">\n",
              "      <button class=\"colab-df-quickchart\" onclick=\"quickchart('df-53bb4ae6-755d-480d-9ecf-31053dbc2e89')\"\n",
              "                title=\"Suggest charts\"\n",
              "                style=\"display:none;\">\n",
              "\n",
              "<svg xmlns=\"http://www.w3.org/2000/svg\" height=\"24px\"viewBox=\"0 0 24 24\"\n",
              "     width=\"24px\">\n",
              "    <g>\n",
              "        <path d=\"M19 3H5c-1.1 0-2 .9-2 2v14c0 1.1.9 2 2 2h14c1.1 0 2-.9 2-2V5c0-1.1-.9-2-2-2zM9 17H7v-7h2v7zm4 0h-2V7h2v10zm4 0h-2v-4h2v4z\"/>\n",
              "    </g>\n",
              "</svg>\n",
              "      </button>\n",
              "\n",
              "<style>\n",
              "  .colab-df-quickchart {\n",
              "      --bg-color: #E8F0FE;\n",
              "      --fill-color: #1967D2;\n",
              "      --hover-bg-color: #E2EBFA;\n",
              "      --hover-fill-color: #174EA6;\n",
              "      --disabled-fill-color: #AAA;\n",
              "      --disabled-bg-color: #DDD;\n",
              "  }\n",
              "\n",
              "  [theme=dark] .colab-df-quickchart {\n",
              "      --bg-color: #3B4455;\n",
              "      --fill-color: #D2E3FC;\n",
              "      --hover-bg-color: #434B5C;\n",
              "      --hover-fill-color: #FFFFFF;\n",
              "      --disabled-bg-color: #3B4455;\n",
              "      --disabled-fill-color: #666;\n",
              "  }\n",
              "\n",
              "  .colab-df-quickchart {\n",
              "    background-color: var(--bg-color);\n",
              "    border: none;\n",
              "    border-radius: 50%;\n",
              "    cursor: pointer;\n",
              "    display: none;\n",
              "    fill: var(--fill-color);\n",
              "    height: 32px;\n",
              "    padding: 0;\n",
              "    width: 32px;\n",
              "  }\n",
              "\n",
              "  .colab-df-quickchart:hover {\n",
              "    background-color: var(--hover-bg-color);\n",
              "    box-shadow: 0 1px 2px rgba(60, 64, 67, 0.3), 0 1px 3px 1px rgba(60, 64, 67, 0.15);\n",
              "    fill: var(--button-hover-fill-color);\n",
              "  }\n",
              "\n",
              "  .colab-df-quickchart-complete:disabled,\n",
              "  .colab-df-quickchart-complete:disabled:hover {\n",
              "    background-color: var(--disabled-bg-color);\n",
              "    fill: var(--disabled-fill-color);\n",
              "    box-shadow: none;\n",
              "  }\n",
              "\n",
              "  .colab-df-spinner {\n",
              "    border: 2px solid var(--fill-color);\n",
              "    border-color: transparent;\n",
              "    border-bottom-color: var(--fill-color);\n",
              "    animation:\n",
              "      spin 1s steps(1) infinite;\n",
              "  }\n",
              "\n",
              "  @keyframes spin {\n",
              "    0% {\n",
              "      border-color: transparent;\n",
              "      border-bottom-color: var(--fill-color);\n",
              "      border-left-color: var(--fill-color);\n",
              "    }\n",
              "    20% {\n",
              "      border-color: transparent;\n",
              "      border-left-color: var(--fill-color);\n",
              "      border-top-color: var(--fill-color);\n",
              "    }\n",
              "    30% {\n",
              "      border-color: transparent;\n",
              "      border-left-color: var(--fill-color);\n",
              "      border-top-color: var(--fill-color);\n",
              "      border-right-color: var(--fill-color);\n",
              "    }\n",
              "    40% {\n",
              "      border-color: transparent;\n",
              "      border-right-color: var(--fill-color);\n",
              "      border-top-color: var(--fill-color);\n",
              "    }\n",
              "    60% {\n",
              "      border-color: transparent;\n",
              "      border-right-color: var(--fill-color);\n",
              "    }\n",
              "    80% {\n",
              "      border-color: transparent;\n",
              "      border-right-color: var(--fill-color);\n",
              "      border-bottom-color: var(--fill-color);\n",
              "    }\n",
              "    90% {\n",
              "      border-color: transparent;\n",
              "      border-bottom-color: var(--fill-color);\n",
              "    }\n",
              "  }\n",
              "</style>\n",
              "\n",
              "      <script>\n",
              "        async function quickchart(key) {\n",
              "          const quickchartButtonEl =\n",
              "            document.querySelector('#' + key + ' button');\n",
              "          quickchartButtonEl.disabled = true;  // To prevent multiple clicks.\n",
              "          quickchartButtonEl.classList.add('colab-df-spinner');\n",
              "          try {\n",
              "            const charts = await google.colab.kernel.invokeFunction(\n",
              "                'suggestCharts', [key], {});\n",
              "          } catch (error) {\n",
              "            console.error('Error during call to suggestCharts:', error);\n",
              "          }\n",
              "          quickchartButtonEl.classList.remove('colab-df-spinner');\n",
              "          quickchartButtonEl.classList.add('colab-df-quickchart-complete');\n",
              "        }\n",
              "        (() => {\n",
              "          let quickchartButtonEl =\n",
              "            document.querySelector('#df-53bb4ae6-755d-480d-9ecf-31053dbc2e89 button');\n",
              "          quickchartButtonEl.style.display =\n",
              "            google.colab.kernel.accessAllowed ? 'block' : 'none';\n",
              "        })();\n",
              "      </script>\n",
              "    </div>\n",
              "\n",
              "    </div>\n",
              "  </div>\n"
            ],
            "application/vnd.google.colaboratory.intrinsic+json": {
              "type": "dataframe",
              "summary": "{\n  \"name\": \"df[['Income', 'Diabetes_012']]\",\n  \"rows\": 2,\n  \"fields\": [\n    {\n      \"column\": \"Income\",\n      \"properties\": {\n        \"dtype\": \"number\",\n        \"std\": 0.8283635999516189,\n        \"min\": -0.17148303762778036,\n        \"max\": 1.0,\n        \"num_unique_values\": 2,\n        \"samples\": [\n          -0.17148303762778036,\n          1.0\n        ],\n        \"semantic_type\": \"\",\n        \"description\": \"\"\n      }\n    },\n    {\n      \"column\": \"Diabetes_012\",\n      \"properties\": {\n        \"dtype\": \"number\",\n        \"std\": 0.8283635999516189,\n        \"min\": -0.17148303762778036,\n        \"max\": 1.0,\n        \"num_unique_values\": 2,\n        \"samples\": [\n          1.0,\n          -0.17148303762778036\n        ],\n        \"semantic_type\": \"\",\n        \"description\": \"\"\n      }\n    }\n  ]\n}"
            }
          },
          "metadata": {},
          "execution_count": 13
        }
      ]
    },
    {
      "cell_type": "markdown",
      "source": [
        "*Thus our intuition is correct, we get a -ve value indicating -ve correlation.*"
      ],
      "metadata": {
        "id": "0dZqcDmvt5pa"
      }
    },
    {
      "cell_type": "markdown",
      "source": [],
      "metadata": {
        "id": "GZVqVSbIq9NA"
      }
    },
    {
      "cell_type": "code",
      "source": [
        "sns.barplot(x='Diabetes_012', y='Education', data=df,color=\"orange\")"
      ],
      "metadata": {
        "colab": {
          "base_uri": "https://localhost:8080/",
          "height": 467
        },
        "id": "AnzqPkgCq89E",
        "outputId": "fa0ee1af-3354-4bec-cb1f-4b1d02a8360c"
      },
      "execution_count": 14,
      "outputs": [
        {
          "output_type": "execute_result",
          "data": {
            "text/plain": [
              "<Axes: xlabel='Diabetes_012', ylabel='Education'>"
            ]
          },
          "metadata": {},
          "execution_count": 14
        },
        {
          "output_type": "display_data",
          "data": {
            "text/plain": [
              "<Figure size 640x480 with 1 Axes>"
            ],
            "image/png": "[encoded data removed]"
          },
          "metadata": {}
        }
      ]
    },
    {
      "cell_type": "markdown",
      "source": [
        "This bar plot shows that individuals with a diabetes diagnosis (class 2) are less educated compared to non-diabetic individuals (class 0), indicating a possible negative correlation between education and diabetes prevalence."
      ],
      "metadata": {
        "id": "SGY7HrW1rZV9"
      }
    },
    {
      "cell_type": "code",
      "source": [
        "df[['Education', 'Diabetes_012']].corr()"
      ],
      "metadata": {
        "id": "wgmppJworx-H",
        "colab": {
          "base_uri": "https://localhost:8080/",
          "height": 112
        },
        "outputId": "9df04690-64a9-4af3-8497-4550ed40d1aa"
      },
      "execution_count": 15,
      "outputs": [
        {
          "output_type": "execute_result",
          "data": {
            "text/plain": [
              "              Education  Diabetes_012\n",
              "Education      1.000000     -0.130517\n",
              "Diabetes_012  -0.130517      1.000000"
            ],
            "text/html": [
              "\n",
              "  <div id=\"df-25f5c25a-ff25-4779-b2e2-8b9527dba77a\" class=\"colab-df-container\">\n",
              "    <div>\n",
              "<style scoped>\n",
              "    .dataframe tbody tr th:only-of-type {\n",
              "        vertical-align: middle;\n",
              "    }\n",
              "\n",
              "    .dataframe tbody tr th {\n",
              "        vertical-align: top;\n",
              "    }\n",
              "\n",
              "    .dataframe thead th {\n",
              "        text-align: right;\n",
              "    }\n",
              "</style>\n",
              "<table border=\"1\" class=\"dataframe\">\n",
              "  <thead>\n",
              "    <tr style=\"text-align: right;\">\n",
              "      <th></th>\n",
              "      <th>Education</th>\n",
              "      <th>Diabetes_012</th>\n",
              "    </tr>\n",
              "  </thead>\n",
              "  <tbody>\n",
              "    <tr>\n",
              "      <th>Education</th>\n",
              "      <td>1.000000</td>\n",
              "      <td>-0.130517</td>\n",
              "    </tr>\n",
              "    <tr>\n",
              "      <th>Diabetes_012</th>\n",
              "      <td>-0.130517</td>\n",
              "      <td>1.000000</td>\n",
              "    </tr>\n",
              "  </tbody>\n",
              "</table>\n",
              "</div>\n",
              "    <div class=\"colab-df-buttons\">\n",
              "\n",
              "  <div class=\"colab-df-container\">\n",
              "    <button class=\"colab-df-convert\" onclick=\"convertToInteractive('df-25f5c25a-ff25-4779-b2e2-8b9527dba77a')\"\n",
              "            title=\"Convert this dataframe to an interactive table.\"\n",
              "            style=\"display:none;\">\n",
              "\n",
              "  <svg xmlns=\"http://www.w3.org/2000/svg\" height=\"24px\" viewBox=\"0 -960 960 960\">\n",
              "    <path d=\"M120-120v-720h720v720H120Zm60-500h600v-160H180v160Zm220 220h160v-160H400v160Zm0 220h160v-160H400v160ZM180-400h160v-160H180v160Zm440 0h160v-160H620v160ZM180-180h160v-160H180v160Zm440 0h160v-160H620v160Z\"/>\n",
              "  </svg>\n",
              "    </button>\n",
              "\n",
              "  <style>\n",
              "    .colab-df-container {\n",
              "      display:flex;\n",
              "      gap: 12px;\n",
              "    }\n",
              "\n",
              "    .colab-df-convert {\n",
              "      background-color: #E8F0FE;\n",
              "      border: none;\n",
              "      border-radius: 50%;\n",
              "      cursor: pointer;\n",
              "      display: none;\n",
              "      fill: #1967D2;\n",
              "      height: 32px;\n",
              "      padding: 0 0 0 0;\n",
              "      width: 32px;\n",
              "    }\n",
              "\n",
              "    .colab-df-convert:hover {\n",
              "      background-color: #E2EBFA;\n",
              "      box-shadow: 0px 1px 2px rgba(60, 64, 67, 0.3), 0px 1px 3px 1px rgba(60, 64, 67, 0.15);\n",
              "      fill: #174EA6;\n",
              "    }\n",
              "\n",
              "    .colab-df-buttons div {\n",
              "      margin-bottom: 4px;\n",
              "    }\n",
              "\n",
              "    [theme=dark] .colab-df-convert {\n",
              "      background-color: #3B4455;\n",
              "      fill: #D2E3FC;\n",
              "    }\n",
              "\n",
              "    [theme=dark] .colab-df-convert:hover {\n",
              "      background-color: #434B5C;\n",
              "      box-shadow: 0px 1px 3px 1px rgba(0, 0, 0, 0.15);\n",
              "      filter: drop-shadow(0px 1px 2px rgba(0, 0, 0, 0.3));\n",
              "      fill: #FFFFFF;\n",
              "    }\n",
              "  </style>\n",
              "\n",
              "    <script>\n",
              "      const buttonEl =\n",
              "        document.querySelector('#df-25f5c25a-ff25-4779-b2e2-8b9527dba77a button.colab-df-convert');\n",
              "      buttonEl.style.display =\n",
              "        google.colab.kernel.accessAllowed ? 'block' : 'none';\n",
              "\n",
              "      async function convertToInteractive(key) {\n",
              "        const element = document.querySelector('#df-25f5c25a-ff25-4779-b2e2-8b9527dba77a');\n",
              "        const dataTable =\n",
              "          await google.colab.kernel.invokeFunction('convertToInteractive',\n",
              "                                                    [key], {});\n",
              "        if (!dataTable) return;\n",
              "\n",
              "        const docLinkHtml = 'Like what you see? Visit the ' +\n",
              "          '<a target=\"_blank\" href=https://colab.research.google.com/notebooks/data_table.ipynb>data table notebook</a>'\n",
              "          + ' to learn more about interactive tables.';\n",
              "        element.innerHTML = '';\n",
              "        dataTable['output_type'] = 'display_data';\n",
              "        await google.colab.output.renderOutput(dataTable, element);\n",
              "        const docLink = document.createElement('div');\n",
              "        docLink.innerHTML = docLinkHtml;\n",
              "        element.appendChild(docLink);\n",
              "      }\n",
              "    </script>\n",
              "  </div>\n",
              "\n",
              "\n",
              "    <div id=\"df-68437cf4-4e11-4b07-8a89-018b774536b9\">\n",
              "      <button class=\"colab-df-quickchart\" onclick=\"quickchart('df-68437cf4-4e11-4b07-8a89-018b774536b9')\"\n",
              "                title=\"Suggest charts\"\n",
              "                style=\"display:none;\">\n",
              "\n",
              "<svg xmlns=\"http://www.w3.org/2000/svg\" height=\"24px\"viewBox=\"0 0 24 24\"\n",
              "     width=\"24px\">\n",
              "    <g>\n",
              "        <path d=\"M19 3H5c-1.1 0-2 .9-2 2v14c0 1.1.9 2 2 2h14c1.1 0 2-.9 2-2V5c0-1.1-.9-2-2-2zM9 17H7v-7h2v7zm4 0h-2V7h2v10zm4 0h-2v-4h2v4z\"/>\n",
              "    </g>\n",
              "</svg>\n",
              "      </button>\n",
              "\n",
              "<style>\n",
              "  .colab-df-quickchart {\n",
              "      --bg-color: #E8F0FE;\n",
              "      --fill-color: #1967D2;\n",
              "      --hover-bg-color: #E2EBFA;\n",
              "      --hover-fill-color: #174EA6;\n",
              "      --disabled-fill-color: #AAA;\n",
              "      --disabled-bg-color: #DDD;\n",
              "  }\n",
              "\n",
              "  [theme=dark] .colab-df-quickchart {\n",
              "      --bg-color: #3B4455;\n",
              "      --fill-color: #D2E3FC;\n",
              "      --hover-bg-color: #434B5C;\n",
              "      --hover-fill-color: #FFFFFF;\n",
              "      --disabled-bg-color: #3B4455;\n",
              "      --disabled-fill-color: #666;\n",
              "  }\n",
              "\n",
              "  .colab-df-quickchart {\n",
              "    background-color: var(--bg-color);\n",
              "    border: none;\n",
              "    border-radius: 50%;\n",
              "    cursor: pointer;\n",
              "    display: none;\n",
              "    fill: var(--fill-color);\n",
              "    height: 32px;\n",
              "    padding: 0;\n",
              "    width: 32px;\n",
              "  }\n",
              "\n",
              "  .colab-df-quickchart:hover {\n",
              "    background-color: var(--hover-bg-color);\n",
              "    box-shadow: 0 1px 2px rgba(60, 64, 67, 0.3), 0 1px 3px 1px rgba(60, 64, 67, 0.15);\n",
              "    fill: var(--button-hover-fill-color);\n",
              "  }\n",
              "\n",
              "  .colab-df-quickchart-complete:disabled,\n",
              "  .colab-df-quickchart-complete:disabled:hover {\n",
              "    background-color: var(--disabled-bg-color);\n",
              "    fill: var(--disabled-fill-color);\n",
              "    box-shadow: none;\n",
              "  }\n",
              "\n",
              "  .colab-df-spinner {\n",
              "    border: 2px solid var(--fill-color);\n",
              "    border-color: transparent;\n",
              "    border-bottom-color: var(--fill-color);\n",
              "    animation:\n",
              "      spin 1s steps(1) infinite;\n",
              "  }\n",
              "\n",
              "  @keyframes spin {\n",
              "    0% {\n",
              "      border-color: transparent;\n",
              "      border-bottom-color: var(--fill-color);\n",
              "      border-left-color: var(--fill-color);\n",
              "    }\n",
              "    20% {\n",
              "      border-color: transparent;\n",
              "      border-left-color: var(--fill-color);\n",
              "      border-top-color: var(--fill-color);\n",
              "    }\n",
              "    30% {\n",
              "      border-color: transparent;\n",
              "      border-left-color: var(--fill-color);\n",
              "      border-top-color: var(--fill-color);\n",
              "      border-right-color: var(--fill-color);\n",
              "    }\n",
              "    40% {\n",
              "      border-color: transparent;\n",
              "      border-right-color: var(--fill-color);\n",
              "      border-top-color: var(--fill-color);\n",
              "    }\n",
              "    60% {\n",
              "      border-color: transparent;\n",
              "      border-right-color: var(--fill-color);\n",
              "    }\n",
              "    80% {\n",
              "      border-color: transparent;\n",
              "      border-right-color: var(--fill-color);\n",
              "      border-bottom-color: var(--fill-color);\n",
              "    }\n",
              "    90% {\n",
              "      border-color: transparent;\n",
              "      border-bottom-color: var(--fill-color);\n",
              "    }\n",
              "  }\n",
              "</style>\n",
              "\n",
              "      <script>\n",
              "        async function quickchart(key) {\n",
              "          const quickchartButtonEl =\n",
              "            document.querySelector('#' + key + ' button');\n",
              "          quickchartButtonEl.disabled = true;  // To prevent multiple clicks.\n",
              "          quickchartButtonEl.classList.add('colab-df-spinner');\n",
              "          try {\n",
              "            const charts = await google.colab.kernel.invokeFunction(\n",
              "                'suggestCharts', [key], {});\n",
              "          } catch (error) {\n",
              "            console.error('Error during call to suggestCharts:', error);\n",
              "          }\n",
              "          quickchartButtonEl.classList.remove('colab-df-spinner');\n",
              "          quickchartButtonEl.classList.add('colab-df-quickchart-complete');\n",
              "        }\n",
              "        (() => {\n",
              "          let quickchartButtonEl =\n",
              "            document.querySelector('#df-68437cf4-4e11-4b07-8a89-018b774536b9 button');\n",
              "          quickchartButtonEl.style.display =\n",
              "            google.colab.kernel.accessAllowed ? 'block' : 'none';\n",
              "        })();\n",
              "      </script>\n",
              "    </div>\n",
              "\n",
              "    </div>\n",
              "  </div>\n"
            ],
            "application/vnd.google.colaboratory.intrinsic+json": {
              "type": "dataframe",
              "summary": "{\n  \"name\": \"df[['Education', 'Diabetes_012']]\",\n  \"rows\": 2,\n  \"fields\": [\n    {\n      \"column\": \"Education\",\n      \"properties\": {\n        \"dtype\": \"number\",\n        \"std\": 0.7993961787599615,\n        \"min\": -0.13051691771156462,\n        \"max\": 1.0,\n        \"num_unique_values\": 2,\n        \"samples\": [\n          -0.13051691771156462,\n          1.0\n        ],\n        \"semantic_type\": \"\",\n        \"description\": \"\"\n      }\n    },\n    {\n      \"column\": \"Diabetes_012\",\n      \"properties\": {\n        \"dtype\": \"number\",\n        \"std\": 0.7993961787599615,\n        \"min\": -0.13051691771156462,\n        \"max\": 1.0,\n        \"num_unique_values\": 2,\n        \"samples\": [\n          1.0,\n          -0.13051691771156462\n        ],\n        \"semantic_type\": \"\",\n        \"description\": \"\"\n      }\n    }\n  ]\n}"
            }
          },
          "metadata": {},
          "execution_count": 15
        }
      ]
    },
    {
      "cell_type": "code",
      "source": [
        "sns.barplot(x='Diabetes_012', y='Age', data=df,color=\"cyan\")"
      ],
      "metadata": {
        "colab": {
          "base_uri": "https://localhost:8080/",
          "height": 467
        },
        "id": "0Pn-3FxpuoGT",
        "outputId": "aa5ceff7-5d0b-4501-a870-9014f181484a"
      },
      "execution_count": 16,
      "outputs": [
        {
          "output_type": "execute_result",
          "data": {
            "text/plain": [
              "<Axes: xlabel='Diabetes_012', ylabel='Age'>"
            ]
          },
          "metadata": {},
          "execution_count": 16
        },
        {
          "output_type": "display_data",
          "data": {
            "text/plain": [
              "<Figure size 640x480 with 1 Axes>"
            ],
            "image/png": "[encoded data removed]"
          },
          "metadata": {}
        }
      ]
    },
    {
      "cell_type": "markdown",
      "source": [
        "However here, it is quite the contrary."
      ],
      "metadata": {
        "id": "WQZxf8pCuwh7"
      }
    },
    {
      "cell_type": "markdown",
      "source": [
        "This bar plot shows that individuals with a diabetes diagnosis (class 2) are older compared to non-diabetic individuals (class 0), indicating a possible positive correlation between age and diabetes prevalence.\n",
        "Same holds for class 2 over class 1 and class 1 over class 0."
      ],
      "metadata": {
        "id": "zwfEzcQsu3T9"
      }
    },
    {
      "cell_type": "code",
      "source": [
        "df[['Age', 'Diabetes_012']].corr()"
      ],
      "metadata": {
        "colab": {
          "base_uri": "https://localhost:8080/",
          "height": 112
        },
        "id": "r_EBAUuovASH",
        "outputId": "431cdfa3-aa68-4a27-d2b4-499b83ff48d3"
      },
      "execution_count": 17,
      "outputs": [
        {
          "output_type": "execute_result",
          "data": {
            "text/plain": [
              "                   Age  Diabetes_012\n",
              "Age           1.000000      0.185026\n",
              "Diabetes_012  0.185026      1.000000"
            ],
            "text/html": [
              "\n",
              "  <div id=\"df-dc8bd192-4fe1-445b-9e6d-232590a864b8\" class=\"colab-df-container\">\n",
              "    <div>\n",
              "<style scoped>\n",
              "    .dataframe tbody tr th:only-of-type {\n",
              "        vertical-align: middle;\n",
              "    }\n",
              "\n",
              "    .dataframe tbody tr th {\n",
              "        vertical-align: top;\n",
              "    }\n",
              "\n",
              "    .dataframe thead th {\n",
              "        text-align: right;\n",
              "    }\n",
              "</style>\n",
              "<table border=\"1\" class=\"dataframe\">\n",
              "  <thead>\n",
              "    <tr style=\"text-align: right;\">\n",
              "      <th></th>\n",
              "      <th>Age</th>\n",
              "      <th>Diabetes_012</th>\n",
              "    </tr>\n",
              "  </thead>\n",
              "  <tbody>\n",
              "    <tr>\n",
              "      <th>Age</th>\n",
              "      <td>1.000000</td>\n",
              "      <td>0.185026</td>\n",
              "    </tr>\n",
              "    <tr>\n",
              "      <th>Diabetes_012</th>\n",
              "      <td>0.185026</td>\n",
              "      <td>1.000000</td>\n",
              "    </tr>\n",
              "  </tbody>\n",
              "</table>\n",
              "</div>\n",
              "    <div class=\"colab-df-buttons\">\n",
              "\n",
              "  <div class=\"colab-df-container\">\n",
              "    <button class=\"colab-df-convert\" onclick=\"convertToInteractive('df-dc8bd192-4fe1-445b-9e6d-232590a864b8')\"\n",
              "            title=\"Convert this dataframe to an interactive table.\"\n",
              "            style=\"display:none;\">\n",
              "\n",
              "  <svg xmlns=\"http://www.w3.org/2000/svg\" height=\"24px\" viewBox=\"0 -960 960 960\">\n",
              "    <path d=\"M120-120v-720h720v720H120Zm60-500h600v-160H180v160Zm220 220h160v-160H400v160Zm0 220h160v-160H400v160ZM180-400h160v-160H180v160Zm440 0h160v-160H620v160ZM180-180h160v-160H180v160Zm440 0h160v-160H620v160Z\"/>\n",
              "  </svg>\n",
              "    </button>\n",
              "\n",
              "  <style>\n",
              "    .colab-df-container {\n",
              "      display:flex;\n",
              "      gap: 12px;\n",
              "    }\n",
              "\n",
              "    .colab-df-convert {\n",
              "      background-color: #E8F0FE;\n",
              "      border: none;\n",
              "      border-radius: 50%;\n",
              "      cursor: pointer;\n",
              "      display: none;\n",
              "      fill: #1967D2;\n",
              "      height: 32px;\n",
              "      padding: 0 0 0 0;\n",
              "      width: 32px;\n",
              "    }\n",
              "\n",
              "    .colab-df-convert:hover {\n",
              "      background-color: #E2EBFA;\n",
              "      box-shadow: 0px 1px 2px rgba(60, 64, 67, 0.3), 0px 1px 3px 1px rgba(60, 64, 67, 0.15);\n",
              "      fill: #174EA6;\n",
              "    }\n",
              "\n",
              "    .colab-df-buttons div {\n",
              "      margin-bottom: 4px;\n",
              "    }\n",
              "\n",
              "    [theme=dark] .colab-df-convert {\n",
              "      background-color: #3B4455;\n",
              "      fill: #D2E3FC;\n",
              "    }\n",
              "\n",
              "    [theme=dark] .colab-df-convert:hover {\n",
              "      background-color: #434B5C;\n",
              "      box-shadow: 0px 1px 3px 1px rgba(0, 0, 0, 0.15);\n",
              "      filter: drop-shadow(0px 1px 2px rgba(0, 0, 0, 0.3));\n",
              "      fill: #FFFFFF;\n",
              "    }\n",
              "  </style>\n",
              "\n",
              "    <script>\n",
              "      const buttonEl =\n",
              "        document.querySelector('#df-dc8bd192-4fe1-445b-9e6d-232590a864b8 button.colab-df-convert');\n",
              "      buttonEl.style.display =\n",
              "        google.colab.kernel.accessAllowed ? 'block' : 'none';\n",
              "\n",
              "      async function convertToInteractive(key) {\n",
              "        const element = document.querySelector('#df-dc8bd192-4fe1-445b-9e6d-232590a864b8');\n",
              "        const dataTable =\n",
              "          await google.colab.kernel.invokeFunction('convertToInteractive',\n",
              "                                                    [key], {});\n",
              "        if (!dataTable) return;\n",
              "\n",
              "        const docLinkHtml = 'Like what you see? Visit the ' +\n",
              "          '<a target=\"_blank\" href=https://colab.research.google.com/notebooks/data_table.ipynb>data table notebook</a>'\n",
              "          + ' to learn more about interactive tables.';\n",
              "        element.innerHTML = '';\n",
              "        dataTable['output_type'] = 'display_data';\n",
              "        await google.colab.output.renderOutput(dataTable, element);\n",
              "        const docLink = document.createElement('div');\n",
              "        docLink.innerHTML = docLinkHtml;\n",
              "        element.appendChild(docLink);\n",
              "      }\n",
              "    </script>\n",
              "  </div>\n",
              "\n",
              "\n",
              "    <div id=\"df-01a5fd1c-788e-42d6-bcdf-c50c930986ec\">\n",
              "      <button class=\"colab-df-quickchart\" onclick=\"quickchart('df-01a5fd1c-788e-42d6-bcdf-c50c930986ec')\"\n",
              "                title=\"Suggest charts\"\n",
              "                style=\"display:none;\">\n",
              "\n",
              "<svg xmlns=\"http://www.w3.org/2000/svg\" height=\"24px\"viewBox=\"0 0 24 24\"\n",
              "     width=\"24px\">\n",
              "    <g>\n",
              "        <path d=\"M19 3H5c-1.1 0-2 .9-2 2v14c0 1.1.9 2 2 2h14c1.1 0 2-.9 2-2V5c0-1.1-.9-2-2-2zM9 17H7v-7h2v7zm4 0h-2V7h2v10zm4 0h-2v-4h2v4z\"/>\n",
              "    </g>\n",
              "</svg>\n",
              "      </button>\n",
              "\n",
              "<style>\n",
              "  .colab-df-quickchart {\n",
              "      --bg-color: #E8F0FE;\n",
              "      --fill-color: #1967D2;\n",
              "      --hover-bg-color: #E2EBFA;\n",
              "      --hover-fill-color: #174EA6;\n",
              "      --disabled-fill-color: #AAA;\n",
              "      --disabled-bg-color: #DDD;\n",
              "  }\n",
              "\n",
              "  [theme=dark] .colab-df-quickchart {\n",
              "      --bg-color: #3B4455;\n",
              "      --fill-color: #D2E3FC;\n",
              "      --hover-bg-color: #434B5C;\n",
              "      --hover-fill-color: #FFFFFF;\n",
              "      --disabled-bg-color: #3B4455;\n",
              "      --disabled-fill-color: #666;\n",
              "  }\n",
              "\n",
              "  .colab-df-quickchart {\n",
              "    background-color: var(--bg-color);\n",
              "    border: none;\n",
              "    border-radius: 50%;\n",
              "    cursor: pointer;\n",
              "    display: none;\n",
              "    fill: var(--fill-color);\n",
              "    height: 32px;\n",
              "    padding: 0;\n",
              "    width: 32px;\n",
              "  }\n",
              "\n",
              "  .colab-df-quickchart:hover {\n",
              "    background-color: var(--hover-bg-color);\n",
              "    box-shadow: 0 1px 2px rgba(60, 64, 67, 0.3), 0 1px 3px 1px rgba(60, 64, 67, 0.15);\n",
              "    fill: var(--button-hover-fill-color);\n",
              "  }\n",
              "\n",
              "  .colab-df-quickchart-complete:disabled,\n",
              "  .colab-df-quickchart-complete:disabled:hover {\n",
              "    background-color: var(--disabled-bg-color);\n",
              "    fill: var(--disabled-fill-color);\n",
              "    box-shadow: none;\n",
              "  }\n",
              "\n",
              "  .colab-df-spinner {\n",
              "    border: 2px solid var(--fill-color);\n",
              "    border-color: transparent;\n",
              "    border-bottom-color: var(--fill-color);\n",
              "    animation:\n",
              "      spin 1s steps(1) infinite;\n",
              "  }\n",
              "\n",
              "  @keyframes spin {\n",
              "    0% {\n",
              "      border-color: transparent;\n",
              "      border-bottom-color: var(--fill-color);\n",
              "      border-left-color: var(--fill-color);\n",
              "    }\n",
              "    20% {\n",
              "      border-color: transparent;\n",
              "      border-left-color: var(--fill-color);\n",
              "      border-top-color: var(--fill-color);\n",
              "    }\n",
              "    30% {\n",
              "      border-color: transparent;\n",
              "      border-left-color: var(--fill-color);\n",
              "      border-top-color: var(--fill-color);\n",
              "      border-right-color: var(--fill-color);\n",
              "    }\n",
              "    40% {\n",
              "      border-color: transparent;\n",
              "      border-right-color: var(--fill-color);\n",
              "      border-top-color: var(--fill-color);\n",
              "    }\n",
              "    60% {\n",
              "      border-color: transparent;\n",
              "      border-right-color: var(--fill-color);\n",
              "    }\n",
              "    80% {\n",
              "      border-color: transparent;\n",
              "      border-right-color: var(--fill-color);\n",
              "      border-bottom-color: var(--fill-color);\n",
              "    }\n",
              "    90% {\n",
              "      border-color: transparent;\n",
              "      border-bottom-color: var(--fill-color);\n",
              "    }\n",
              "  }\n",
              "</style>\n",
              "\n",
              "      <script>\n",
              "        async function quickchart(key) {\n",
              "          const quickchartButtonEl =\n",
              "            document.querySelector('#' + key + ' button');\n",
              "          quickchartButtonEl.disabled = true;  // To prevent multiple clicks.\n",
              "          quickchartButtonEl.classList.add('colab-df-spinner');\n",
              "          try {\n",
              "            const charts = await google.colab.kernel.invokeFunction(\n",
              "                'suggestCharts', [key], {});\n",
              "          } catch (error) {\n",
              "            console.error('Error during call to suggestCharts:', error);\n",
              "          }\n",
              "          quickchartButtonEl.classList.remove('colab-df-spinner');\n",
              "          quickchartButtonEl.classList.add('colab-df-quickchart-complete');\n",
              "        }\n",
              "        (() => {\n",
              "          let quickchartButtonEl =\n",
              "            document.querySelector('#df-01a5fd1c-788e-42d6-bcdf-c50c930986ec button');\n",
              "          quickchartButtonEl.style.display =\n",
              "            google.colab.kernel.accessAllowed ? 'block' : 'none';\n",
              "        })();\n",
              "      </script>\n",
              "    </div>\n",
              "\n",
              "    </div>\n",
              "  </div>\n"
            ],
            "application/vnd.google.colaboratory.intrinsic+json": {
              "type": "dataframe",
              "summary": "{\n  \"name\": \"df[['Age', 'Diabetes_012']]\",\n  \"rows\": 2,\n  \"fields\": [\n    {\n      \"column\": \"Age\",\n      \"properties\": {\n        \"dtype\": \"number\",\n        \"std\": 0.5762737874827911,\n        \"min\": 0.1850257941017261,\n        \"max\": 1.0,\n        \"num_unique_values\": 2,\n        \"samples\": [\n          0.1850257941017261,\n          1.0\n        ],\n        \"semantic_type\": \"\",\n        \"description\": \"\"\n      }\n    },\n    {\n      \"column\": \"Diabetes_012\",\n      \"properties\": {\n        \"dtype\": \"number\",\n        \"std\": 0.5762737874827911,\n        \"min\": 0.1850257941017261,\n        \"max\": 1.0,\n        \"num_unique_values\": 2,\n        \"samples\": [\n          1.0,\n          0.1850257941017261\n        ],\n        \"semantic_type\": \"\",\n        \"description\": \"\"\n      }\n    }\n  ]\n}"
            }
          },
          "metadata": {},
          "execution_count": 17
        }
      ]
    },
    {
      "cell_type": "markdown",
      "source": [
        "Earlier we have explored charts by categorizing diabetes into 3 : diabetes,prediabetes and no diabates. But now we will be basing on charts on the mean i.e *the mean of diabetes readings taken with possible values being: 0,1,2.*\n",
        "\n",
        "And we narrow the class to 2 nos: 1. no diabetes 2. prediabetic or diabetic"
      ],
      "metadata": {
        "id": "pWKFpaBBycxn"
      }
    },
    {
      "cell_type": "code",
      "source": [
        "sns.barplot(x='HighBP', y='Diabetes_012', data=df, ci=None)\n",
        "plt.ylabel(\"Mean of diabetes readings\")\n",
        "plt.title('Diabetes Level by High Blood Pressure Status')\n"
      ],
      "metadata": {
        "colab": {
          "base_uri": "https://localhost:8080/",
          "height": 576
        },
        "id": "MRySxElcveN2",
        "outputId": "e13ca6e6-5d02-4cc8-fe8a-158729fe27fc"
      },
      "execution_count": 18,
      "outputs": [
        {
          "output_type": "stream",
          "name": "stderr",
          "text": [
            "/tmp/ipython-input-18-735591277.py:1: FutureWarning: \n",
            "\n",
            "The `ci` parameter is deprecated. Use `errorbar=None` for the same effect.\n",
            "\n",
            "  sns.barplot(x='HighBP', y='Diabetes_012', data=df, ci=None)\n"
          ]
        },
        {
          "output_type": "execute_result",
          "data": {
            "text/plain": [
              "Text(0.5, 1.0, 'Diabetes Level by High Blood Pressure Status')"
            ]
          },
          "metadata": {},
          "execution_count": 18
        },
        {
          "output_type": "display_data",
          "data": {
            "text/plain": [
              "<Figure size 640x480 with 1 Axes>"
            ],
            "image/png": "[encoded data removed]"
          },
          "metadata": {}
        }
      ]
    },
    {
      "cell_type": "markdown",
      "source": [
        "We can see the bar for HighBP = 1 is higher, it means that:\n",
        "\n",
        "This bar plot shows that individuals with a diabetes diagnosis (class 2) have higher BP count compared to non-diabetic individuals (class 0), indicating a possible positive correlation between income and diabetes prevalence.\n",
        "\n",
        "\n",
        "\"People with high blood pressure are more likely to also have diabetes or be pre-diabetic.\"\n",
        "\n",
        "This is called comorbidity — when two medical conditions tend to occur together."
      ],
      "metadata": {
        "id": "rdB5k4p-xjNB"
      }
    },
    {
      "cell_type": "code",
      "source": [
        "df[['Age', 'Diabetes_012']].corr()"
      ],
      "metadata": {
        "colab": {
          "base_uri": "https://localhost:8080/",
          "height": 112
        },
        "id": "wt9q7ejax3TC",
        "outputId": "f3f5a9f7-57c6-474a-fc9c-5ce7876398d2"
      },
      "execution_count": 19,
      "outputs": [
        {
          "output_type": "execute_result",
          "data": {
            "text/plain": [
              "                   Age  Diabetes_012\n",
              "Age           1.000000      0.185026\n",
              "Diabetes_012  0.185026      1.000000"
            ],
            "text/html": [
              "\n",
              "  <div id=\"df-50aa3209-98dd-4efe-925d-24dbfd78f591\" class=\"colab-df-container\">\n",
              "    <div>\n",
              "<style scoped>\n",
              "    .dataframe tbody tr th:only-of-type {\n",
              "        vertical-align: middle;\n",
              "    }\n",
              "\n",
              "    .dataframe tbody tr th {\n",
              "        vertical-align: top;\n",
              "    }\n",
              "\n",
              "    .dataframe thead th {\n",
              "        text-align: right;\n",
              "    }\n",
              "</style>\n",
              "<table border=\"1\" class=\"dataframe\">\n",
              "  <thead>\n",
              "    <tr style=\"text-align: right;\">\n",
              "      <th></th>\n",
              "      <th>Age</th>\n",
              "      <th>Diabetes_012</th>\n",
              "    </tr>\n",
              "  </thead>\n",
              "  <tbody>\n",
              "    <tr>\n",
              "      <th>Age</th>\n",
              "      <td>1.000000</td>\n",
              "      <td>0.185026</td>\n",
              "    </tr>\n",
              "    <tr>\n",
              "      <th>Diabetes_012</th>\n",
              "      <td>0.185026</td>\n",
              "      <td>1.000000</td>\n",
              "    </tr>\n",
              "  </tbody>\n",
              "</table>\n",
              "</div>\n",
              "    <div class=\"colab-df-buttons\">\n",
              "\n",
              "  <div class=\"colab-df-container\">\n",
              "    <button class=\"colab-df-convert\" onclick=\"convertToInteractive('df-50aa3209-98dd-4efe-925d-24dbfd78f591')\"\n",
              "            title=\"Convert this dataframe to an interactive table.\"\n",
              "            style=\"display:none;\">\n",
              "\n",
              "  <svg xmlns=\"http://www.w3.org/2000/svg\" height=\"24px\" viewBox=\"0 -960 960 960\">\n",
              "    <path d=\"M120-120v-720h720v720H120Zm60-500h600v-160H180v160Zm220 220h160v-160H400v160Zm0 220h160v-160H400v160ZM180-400h160v-160H180v160Zm440 0h160v-160H620v160ZM180-180h160v-160H180v160Zm440 0h160v-160H620v160Z\"/>\n",
              "  </svg>\n",
              "    </button>\n",
              "\n",
              "  <style>\n",
              "    .colab-df-container {\n",
              "      display:flex;\n",
              "      gap: 12px;\n",
              "    }\n",
              "\n",
              "    .colab-df-convert {\n",
              "      background-color: #E8F0FE;\n",
              "      border: none;\n",
              "      border-radius: 50%;\n",
              "      cursor: pointer;\n",
              "      display: none;\n",
              "      fill: #1967D2;\n",
              "      height: 32px;\n",
              "      padding: 0 0 0 0;\n",
              "      width: 32px;\n",
              "    }\n",
              "\n",
              "    .colab-df-convert:hover {\n",
              "      background-color: #E2EBFA;\n",
              "      box-shadow: 0px 1px 2px rgba(60, 64, 67, 0.3), 0px 1px 3px 1px rgba(60, 64, 67, 0.15);\n",
              "      fill: #174EA6;\n",
              "    }\n",
              "\n",
              "    .colab-df-buttons div {\n",
              "      margin-bottom: 4px;\n",
              "    }\n",
              "\n",
              "    [theme=dark] .colab-df-convert {\n",
              "      background-color: #3B4455;\n",
              "      fill: #D2E3FC;\n",
              "    }\n",
              "\n",
              "    [theme=dark] .colab-df-convert:hover {\n",
              "      background-color: #434B5C;\n",
              "      box-shadow: 0px 1px 3px 1px rgba(0, 0, 0, 0.15);\n",
              "      filter: drop-shadow(0px 1px 2px rgba(0, 0, 0, 0.3));\n",
              "      fill: #FFFFFF;\n",
              "    }\n",
              "  </style>\n",
              "\n",
              "    <script>\n",
              "      const buttonEl =\n",
              "        document.querySelector('#df-50aa3209-98dd-4efe-925d-24dbfd78f591 button.colab-df-convert');\n",
              "      buttonEl.style.display =\n",
              "        google.colab.kernel.accessAllowed ? 'block' : 'none';\n",
              "\n",
              "      async function convertToInteractive(key) {\n",
              "        const element = document.querySelector('#df-50aa3209-98dd-4efe-925d-24dbfd78f591');\n",
              "        const dataTable =\n",
              "          await google.colab.kernel.invokeFunction('convertToInteractive',\n",
              "                                                    [key], {});\n",
              "        if (!dataTable) return;\n",
              "\n",
              "        const docLinkHtml = 'Like what you see? Visit the ' +\n",
              "          '<a target=\"_blank\" href=https://colab.research.google.com/notebooks/data_table.ipynb>data table notebook</a>'\n",
              "          + ' to learn more about interactive tables.';\n",
              "        element.innerHTML = '';\n",
              "        dataTable['output_type'] = 'display_data';\n",
              "        await google.colab.output.renderOutput(dataTable, element);\n",
              "        const docLink = document.createElement('div');\n",
              "        docLink.innerHTML = docLinkHtml;\n",
              "        element.appendChild(docLink);\n",
              "      }\n",
              "    </script>\n",
              "  </div>\n",
              "\n",
              "\n",
              "    <div id=\"df-6c7f5adc-c27d-4ec2-b0cb-eb52a33afc26\">\n",
              "      <button class=\"colab-df-quickchart\" onclick=\"quickchart('df-6c7f5adc-c27d-4ec2-b0cb-eb52a33afc26')\"\n",
              "                title=\"Suggest charts\"\n",
              "                style=\"display:none;\">\n",
              "\n",
              "<svg xmlns=\"http://www.w3.org/2000/svg\" height=\"24px\"viewBox=\"0 0 24 24\"\n",
              "     width=\"24px\">\n",
              "    <g>\n",
              "        <path d=\"M19 3H5c-1.1 0-2 .9-2 2v14c0 1.1.9 2 2 2h14c1.1 0 2-.9 2-2V5c0-1.1-.9-2-2-2zM9 17H7v-7h2v7zm4 0h-2V7h2v10zm4 0h-2v-4h2v4z\"/>\n",
              "    </g>\n",
              "</svg>\n",
              "      </button>\n",
              "\n",
              "<style>\n",
              "  .colab-df-quickchart {\n",
              "      --bg-color: #E8F0FE;\n",
              "      --fill-color: #1967D2;\n",
              "      --hover-bg-color: #E2EBFA;\n",
              "      --hover-fill-color: #174EA6;\n",
              "      --disabled-fill-color: #AAA;\n",
              "      --disabled-bg-color: #DDD;\n",
              "  }\n",
              "\n",
              "  [theme=dark] .colab-df-quickchart {\n",
              "      --bg-color: #3B4455;\n",
              "      --fill-color: #D2E3FC;\n",
              "      --hover-bg-color: #434B5C;\n",
              "      --hover-fill-color: #FFFFFF;\n",
              "      --disabled-bg-color: #3B4455;\n",
              "      --disabled-fill-color: #666;\n",
              "  }\n",
              "\n",
              "  .colab-df-quickchart {\n",
              "    background-color: var(--bg-color);\n",
              "    border: none;\n",
              "    border-radius: 50%;\n",
              "    cursor: pointer;\n",
              "    display: none;\n",
              "    fill: var(--fill-color);\n",
              "    height: 32px;\n",
              "    padding: 0;\n",
              "    width: 32px;\n",
              "  }\n",
              "\n",
              "  .colab-df-quickchart:hover {\n",
              "    background-color: var(--hover-bg-color);\n",
              "    box-shadow: 0 1px 2px rgba(60, 64, 67, 0.3), 0 1px 3px 1px rgba(60, 64, 67, 0.15);\n",
              "    fill: var(--button-hover-fill-color);\n",
              "  }\n",
              "\n",
              "  .colab-df-quickchart-complete:disabled,\n",
              "  .colab-df-quickchart-complete:disabled:hover {\n",
              "    background-color: var(--disabled-bg-color);\n",
              "    fill: var(--disabled-fill-color);\n",
              "    box-shadow: none;\n",
              "  }\n",
              "\n",
              "  .colab-df-spinner {\n",
              "    border: 2px solid var(--fill-color);\n",
              "    border-color: transparent;\n",
              "    border-bottom-color: var(--fill-color);\n",
              "    animation:\n",
              "      spin 1s steps(1) infinite;\n",
              "  }\n",
              "\n",
              "  @keyframes spin {\n",
              "    0% {\n",
              "      border-color: transparent;\n",
              "      border-bottom-color: var(--fill-color);\n",
              "      border-left-color: var(--fill-color);\n",
              "    }\n",
              "    20% {\n",
              "      border-color: transparent;\n",
              "      border-left-color: var(--fill-color);\n",
              "      border-top-color: var(--fill-color);\n",
              "    }\n",
              "    30% {\n",
              "      border-color: transparent;\n",
              "      border-left-color: var(--fill-color);\n",
              "      border-top-color: var(--fill-color);\n",
              "      border-right-color: var(--fill-color);\n",
              "    }\n",
              "    40% {\n",
              "      border-color: transparent;\n",
              "      border-right-color: var(--fill-color);\n",
              "      border-top-color: var(--fill-color);\n",
              "    }\n",
              "    60% {\n",
              "      border-color: transparent;\n",
              "      border-right-color: var(--fill-color);\n",
              "    }\n",
              "    80% {\n",
              "      border-color: transparent;\n",
              "      border-right-color: var(--fill-color);\n",
              "      border-bottom-color: var(--fill-color);\n",
              "    }\n",
              "    90% {\n",
              "      border-color: transparent;\n",
              "      border-bottom-color: var(--fill-color);\n",
              "    }\n",
              "  }\n",
              "</style>\n",
              "\n",
              "      <script>\n",
              "        async function quickchart(key) {\n",
              "          const quickchartButtonEl =\n",
              "            document.querySelector('#' + key + ' button');\n",
              "          quickchartButtonEl.disabled = true;  // To prevent multiple clicks.\n",
              "          quickchartButtonEl.classList.add('colab-df-spinner');\n",
              "          try {\n",
              "            const charts = await google.colab.kernel.invokeFunction(\n",
              "                'suggestCharts', [key], {});\n",
              "          } catch (error) {\n",
              "            console.error('Error during call to suggestCharts:', error);\n",
              "          }\n",
              "          quickchartButtonEl.classList.remove('colab-df-spinner');\n",
              "          quickchartButtonEl.classList.add('colab-df-quickchart-complete');\n",
              "        }\n",
              "        (() => {\n",
              "          let quickchartButtonEl =\n",
              "            document.querySelector('#df-6c7f5adc-c27d-4ec2-b0cb-eb52a33afc26 button');\n",
              "          quickchartButtonEl.style.display =\n",
              "            google.colab.kernel.accessAllowed ? 'block' : 'none';\n",
              "        })();\n",
              "      </script>\n",
              "    </div>\n",
              "\n",
              "    </div>\n",
              "  </div>\n"
            ],
            "application/vnd.google.colaboratory.intrinsic+json": {
              "type": "dataframe",
              "summary": "{\n  \"name\": \"df[['Age', 'Diabetes_012']]\",\n  \"rows\": 2,\n  \"fields\": [\n    {\n      \"column\": \"Age\",\n      \"properties\": {\n        \"dtype\": \"number\",\n        \"std\": 0.5762737874827911,\n        \"min\": 0.1850257941017261,\n        \"max\": 1.0,\n        \"num_unique_values\": 2,\n        \"samples\": [\n          0.1850257941017261,\n          1.0\n        ],\n        \"semantic_type\": \"\",\n        \"description\": \"\"\n      }\n    },\n    {\n      \"column\": \"Diabetes_012\",\n      \"properties\": {\n        \"dtype\": \"number\",\n        \"std\": 0.5762737874827911,\n        \"min\": 0.1850257941017261,\n        \"max\": 1.0,\n        \"num_unique_values\": 2,\n        \"samples\": [\n          1.0,\n          0.1850257941017261\n        ],\n        \"semantic_type\": \"\",\n        \"description\": \"\"\n      }\n    }\n  ]\n}"
            }
          },
          "metadata": {},
          "execution_count": 19
        }
      ]
    },
    {
      "cell_type": "code",
      "source": [
        "sns.barplot(x='Income', y='Diabetes_012', hue='Sex', data=df,ci=None)"
      ],
      "metadata": {
        "colab": {
          "base_uri": "https://localhost:8080/",
          "height": 553
        },
        "id": "DAUBLQnjzKEP",
        "outputId": "d9d7de04-5c77-47c8-b59c-027ebf96a9dd"
      },
      "execution_count": 20,
      "outputs": [
        {
          "output_type": "stream",
          "name": "stderr",
          "text": [
            "/tmp/ipython-input-20-1967568301.py:1: FutureWarning: \n",
            "\n",
            "The `ci` parameter is deprecated. Use `errorbar=None` for the same effect.\n",
            "\n",
            "  sns.barplot(x='Income', y='Diabetes_012', hue='Sex', data=df,ci=None)\n"
          ]
        },
        {
          "output_type": "execute_result",
          "data": {
            "text/plain": [
              "<Axes: xlabel='Income', ylabel='Diabetes_012'>"
            ]
          },
          "metadata": {},
          "execution_count": 20
        },
        {
          "output_type": "display_data",
          "data": {
            "text/plain": [
              "<Figure size 640x480 with 1 Axes>"
            ],
            "image/png": "[encoded data removed]"
          },
          "metadata": {}
        }
      ]
    },
    {
      "cell_type": "markdown",
      "source": [
        "Here we use the visual storytelling element where we check ..\n",
        "\n",
        "**Sex v Income v Diabetes**\n",
        "\n",
        "Income effect on diabetes:\n",
        "\n",
        "As income increases, average diabetes class tends to decrease (bars get shorter).\n",
        "\n",
        "This suggests higher income groups have lower diabetes risk.\n",
        "\n",
        "\n"
      ],
      "metadata": {
        "id": "aq6NeScczSpK"
      }
    },
    {
      "cell_type": "markdown",
      "source": [
        " *Here 0.0 represents females and 1.0 represents males*\n",
        "\n",
        "When comparing sexes:\n",
        "\n",
        "At lower income levels, males (1) tend to have higher average diabetes risk than females (0).\n",
        "\n",
        "This suggests that low-income males are more vulnerable to diabetes compared to females in the same income bracket.\n",
        "\n",
        "At higher income levels, the diabetes risk for both sexes is lower and more similar, implying income may help reduce the gap.\n",
        "\n",
        "Overall, both income and sex influence diabetes risk, with low-income males showing the highest risk in this dataset.\n",
        "\n"
      ],
      "metadata": {
        "id": "59ydcwwz0GJA"
      }
    },
    {
      "cell_type": "code",
      "source": [
        "df.head()"
      ],
      "metadata": {
        "colab": {
          "base_uri": "https://localhost:8080/",
          "height": 255
        },
        "id": "v0blHq-CBuu9",
        "outputId": "d8682c3b-6923-4143-863c-d9489eb310f3"
      },
      "execution_count": 21,
      "outputs": [
        {
          "output_type": "execute_result",
          "data": {
            "text/plain": [
              "   Diabetes_012  HighBP  HighChol  CholCheck   BMI  Smoker  Stroke  \\\n",
              "0           0.0     1.0       1.0        1.0  40.0     1.0     0.0   \n",
              "1           0.0     0.0       0.0        0.0  25.0     1.0     0.0   \n",
              "2           0.0     1.0       1.0        1.0  28.0     0.0     0.0   \n",
              "3           0.0     1.0       0.0        1.0  27.0     0.0     0.0   \n",
              "4           0.0     1.0       1.0        1.0  24.0     0.0     0.0   \n",
              "\n",
              "   HeartDiseaseorAttack  PhysActivity  Fruits  ...  AnyHealthcare  \\\n",
              "0                   0.0           0.0     0.0  ...            1.0   \n",
              "1                   0.0           1.0     0.0  ...            0.0   \n",
              "2                   0.0           0.0     1.0  ...            1.0   \n",
              "3                   0.0           1.0     1.0  ...            1.0   \n",
              "4                   0.0           1.0     1.0  ...            1.0   \n",
              "\n",
              "   NoDocbcCost  GenHlth  MentHlth  PhysHlth  DiffWalk  Sex   Age  Education  \\\n",
              "0          0.0      5.0      18.0      15.0       1.0  0.0   9.0        4.0   \n",
              "1          1.0      3.0       0.0       0.0       0.0  0.0   7.0        6.0   \n",
              "2          1.0      5.0      30.0      30.0       1.0  0.0   9.0        4.0   \n",
              "3          0.0      2.0       0.0       0.0       0.0  0.0  11.0        3.0   \n",
              "4          0.0      2.0       3.0       0.0       0.0  0.0  11.0        5.0   \n",
              "\n",
              "   Income  \n",
              "0     3.0  \n",
              "1     1.0  \n",
              "2     8.0  \n",
              "3     6.0  \n",
              "4     4.0  \n",
              "\n",
              "[5 rows x 22 columns]"
            ],
            "text/html": [
              "\n",
              "  <div id=\"df-b8d77e98-3ee4-41a5-9a48-d2aecae53016\" class=\"colab-df-container\">\n",
              "    <div>\n",
              "<style scoped>\n",
              "    .dataframe tbody tr th:only-of-type {\n",
              "        vertical-align: middle;\n",
              "    }\n",
              "\n",
              "    .dataframe tbody tr th {\n",
              "        vertical-align: top;\n",
              "    }\n",
              "\n",
              "    .dataframe thead th {\n",
              "        text-align: right;\n",
              "    }\n",
              "</style>\n",
              "<table border=\"1\" class=\"dataframe\">\n",
              "  <thead>\n",
              "    <tr style=\"text-align: right;\">\n",
              "      <th></th>\n",
              "      <th>Diabetes_012</th>\n",
              "      <th>HighBP</th>\n",
              "      <th>HighChol</th>\n",
              "      <th>CholCheck</th>\n",
              "      <th>BMI</th>\n",
              "      <th>Smoker</th>\n",
              "      <th>Stroke</th>\n",
              "      <th>HeartDiseaseorAttack</th>\n",
              "      <th>PhysActivity</th>\n",
              "      <th>Fruits</th>\n",
              "      <th>...</th>\n",
              "      <th>AnyHealthcare</th>\n",
              "      <th>NoDocbcCost</th>\n",
              "      <th>GenHlth</th>\n",
              "      <th>MentHlth</th>\n",
              "      <th>PhysHlth</th>\n",
              "      <th>DiffWalk</th>\n",
              "      <th>Sex</th>\n",
              "      <th>Age</th>\n",
              "      <th>Education</th>\n",
              "      <th>Income</th>\n",
              "    </tr>\n",
              "  </thead>\n",
              "  <tbody>\n",
              "    <tr>\n",
              "      <th>0</th>\n",
              "      <td>0.0</td>\n",
              "      <td>1.0</td>\n",
              "      <td>1.0</td>\n",
              "      <td>1.0</td>\n",
              "      <td>40.0</td>\n",
              "      <td>1.0</td>\n",
              "      <td>0.0</td>\n",
              "      <td>0.0</td>\n",
              "      <td>0.0</td>\n",
              "      <td>0.0</td>\n",
              "      <td>...</td>\n",
              "      <td>1.0</td>\n",
              "      <td>0.0</td>\n",
              "      <td>5.0</td>\n",
              "      <td>18.0</td>\n",
              "      <td>15.0</td>\n",
              "      <td>1.0</td>\n",
              "      <td>0.0</td>\n",
              "      <td>9.0</td>\n",
              "      <td>4.0</td>\n",
              "      <td>3.0</td>\n",
              "    </tr>\n",
              "    <tr>\n",
              "      <th>1</th>\n",
              "      <td>0.0</td>\n",
              "      <td>0.0</td>\n",
              "      <td>0.0</td>\n",
              "      <td>0.0</td>\n",
              "      <td>25.0</td>\n",
              "      <td>1.0</td>\n",
              "      <td>0.0</td>\n",
              "      <td>0.0</td>\n",
              "      <td>1.0</td>\n",
              "      <td>0.0</td>\n",
              "      <td>...</td>\n",
              "      <td>0.0</td>\n",
              "      <td>1.0</td>\n",
              "      <td>3.0</td>\n",
              "      <td>0.0</td>\n",
              "      <td>0.0</td>\n",
              "      <td>0.0</td>\n",
              "      <td>0.0</td>\n",
              "      <td>7.0</td>\n",
              "      <td>6.0</td>\n",
              "      <td>1.0</td>\n",
              "    </tr>\n",
              "    <tr>\n",
              "      <th>2</th>\n",
              "      <td>0.0</td>\n",
              "      <td>1.0</td>\n",
              "      <td>1.0</td>\n",
              "      <td>1.0</td>\n",
              "      <td>28.0</td>\n",
              "      <td>0.0</td>\n",
              "      <td>0.0</td>\n",
              "      <td>0.0</td>\n",
              "      <td>0.0</td>\n",
              "      <td>1.0</td>\n",
              "      <td>...</td>\n",
              "      <td>1.0</td>\n",
              "      <td>1.0</td>\n",
              "      <td>5.0</td>\n",
              "      <td>30.0</td>\n",
              "      <td>30.0</td>\n",
              "      <td>1.0</td>\n",
              "      <td>0.0</td>\n",
              "      <td>9.0</td>\n",
              "      <td>4.0</td>\n",
              "      <td>8.0</td>\n",
              "    </tr>\n",
              "    <tr>\n",
              "      <th>3</th>\n",
              "      <td>0.0</td>\n",
              "      <td>1.0</td>\n",
              "      <td>0.0</td>\n",
              "      <td>1.0</td>\n",
              "      <td>27.0</td>\n",
              "      <td>0.0</td>\n",
              "      <td>0.0</td>\n",
              "      <td>0.0</td>\n",
              "      <td>1.0</td>\n",
              "      <td>1.0</td>\n",
              "      <td>...</td>\n",
              "      <td>1.0</td>\n",
              "      <td>0.0</td>\n",
              "      <td>2.0</td>\n",
              "      <td>0.0</td>\n",
              "      <td>0.0</td>\n",
              "      <td>0.0</td>\n",
              "      <td>0.0</td>\n",
              "      <td>11.0</td>\n",
              "      <td>3.0</td>\n",
              "      <td>6.0</td>\n",
              "    </tr>\n",
              "    <tr>\n",
              "      <th>4</th>\n",
              "      <td>0.0</td>\n",
              "      <td>1.0</td>\n",
              "      <td>1.0</td>\n",
              "      <td>1.0</td>\n",
              "      <td>24.0</td>\n",
              "      <td>0.0</td>\n",
              "      <td>0.0</td>\n",
              "      <td>0.0</td>\n",
              "      <td>1.0</td>\n",
              "      <td>1.0</td>\n",
              "      <td>...</td>\n",
              "      <td>1.0</td>\n",
              "      <td>0.0</td>\n",
              "      <td>2.0</td>\n",
              "      <td>3.0</td>\n",
              "      <td>0.0</td>\n",
              "      <td>0.0</td>\n",
              "      <td>0.0</td>\n",
              "      <td>11.0</td>\n",
              "      <td>5.0</td>\n",
              "      <td>4.0</td>\n",
              "    </tr>\n",
              "  </tbody>\n",
              "</table>\n",
              "<p>5 rows × 22 columns</p>\n",
              "</div>\n",
              "    <div class=\"colab-df-buttons\">\n",
              "\n",
              "  <div class=\"colab-df-container\">\n",
              "    <button class=\"colab-df-convert\" onclick=\"convertToInteractive('df-b8d77e98-3ee4-41a5-9a48-d2aecae53016')\"\n",
              "            title=\"Convert this dataframe to an interactive table.\"\n",
              "            style=\"display:none;\">\n",
              "\n",
              "  <svg xmlns=\"http://www.w3.org/2000/svg\" height=\"24px\" viewBox=\"0 -960 960 960\">\n",
              "    <path d=\"M120-120v-720h720v720H120Zm60-500h600v-160H180v160Zm220 220h160v-160H400v160Zm0 220h160v-160H400v160ZM180-400h160v-160H180v160Zm440 0h160v-160H620v160ZM180-180h160v-160H180v160Zm440 0h160v-160H620v160Z\"/>\n",
              "  </svg>\n",
              "    </button>\n",
              "\n",
              "  <style>\n",
              "    .colab-df-container {\n",
              "      display:flex;\n",
              "      gap: 12px;\n",
              "    }\n",
              "\n",
              "    .colab-df-convert {\n",
              "      background-color: #E8F0FE;\n",
              "      border: none;\n",
              "      border-radius: 50%;\n",
              "      cursor: pointer;\n",
              "      display: none;\n",
              "      fill: #1967D2;\n",
              "      height: 32px;\n",
              "      padding: 0 0 0 0;\n",
              "      width: 32px;\n",
              "    }\n",
              "\n",
              "    .colab-df-convert:hover {\n",
              "      background-color: #E2EBFA;\n",
              "      box-shadow: 0px 1px 2px rgba(60, 64, 67, 0.3), 0px 1px 3px 1px rgba(60, 64, 67, 0.15);\n",
              "      fill: #174EA6;\n",
              "    }\n",
              "\n",
              "    .colab-df-buttons div {\n",
              "      margin-bottom: 4px;\n",
              "    }\n",
              "\n",
              "    [theme=dark] .colab-df-convert {\n",
              "      background-color: #3B4455;\n",
              "      fill: #D2E3FC;\n",
              "    }\n",
              "\n",
              "    [theme=dark] .colab-df-convert:hover {\n",
              "      background-color: #434B5C;\n",
              "      box-shadow: 0px 1px 3px 1px rgba(0, 0, 0, 0.15);\n",
              "      filter: drop-shadow(0px 1px 2px rgba(0, 0, 0, 0.3));\n",
              "      fill: #FFFFFF;\n",
              "    }\n",
              "  </style>\n",
              "\n",
              "    <script>\n",
              "      const buttonEl =\n",
              "        document.querySelector('#df-b8d77e98-3ee4-41a5-9a48-d2aecae53016 button.colab-df-convert');\n",
              "      buttonEl.style.display =\n",
              "        google.colab.kernel.accessAllowed ? 'block' : 'none';\n",
              "\n",
              "      async function convertToInteractive(key) {\n",
              "        const element = document.querySelector('#df-b8d77e98-3ee4-41a5-9a48-d2aecae53016');\n",
              "        const dataTable =\n",
              "          await google.colab.kernel.invokeFunction('convertToInteractive',\n",
              "                                                    [key], {});\n",
              "        if (!dataTable) return;\n",
              "\n",
              "        const docLinkHtml = 'Like what you see? Visit the ' +\n",
              "          '<a target=\"_blank\" href=https://colab.research.google.com/notebooks/data_table.ipynb>data table notebook</a>'\n",
              "          + ' to learn more about interactive tables.';\n",
              "        element.innerHTML = '';\n",
              "        dataTable['output_type'] = 'display_data';\n",
              "        await google.colab.output.renderOutput(dataTable, element);\n",
              "        const docLink = document.createElement('div');\n",
              "        docLink.innerHTML = docLinkHtml;\n",
              "        element.appendChild(docLink);\n",
              "      }\n",
              "    </script>\n",
              "  </div>\n",
              "\n",
              "\n",
              "    <div id=\"df-a288c33f-f85a-4094-acca-c39d452fc513\">\n",
              "      <button class=\"colab-df-quickchart\" onclick=\"quickchart('df-a288c33f-f85a-4094-acca-c39d452fc513')\"\n",
              "                title=\"Suggest charts\"\n",
              "                style=\"display:none;\">\n",
              "\n",
              "<svg xmlns=\"http://www.w3.org/2000/svg\" height=\"24px\"viewBox=\"0 0 24 24\"\n",
              "     width=\"24px\">\n",
              "    <g>\n",
              "        <path d=\"M19 3H5c-1.1 0-2 .9-2 2v14c0 1.1.9 2 2 2h14c1.1 0 2-.9 2-2V5c0-1.1-.9-2-2-2zM9 17H7v-7h2v7zm4 0h-2V7h2v10zm4 0h-2v-4h2v4z\"/>\n",
              "    </g>\n",
              "</svg>\n",
              "      </button>\n",
              "\n",
              "<style>\n",
              "  .colab-df-quickchart {\n",
              "      --bg-color: #E8F0FE;\n",
              "      --fill-color: #1967D2;\n",
              "      --hover-bg-color: #E2EBFA;\n",
              "      --hover-fill-color: #174EA6;\n",
              "      --disabled-fill-color: #AAA;\n",
              "      --disabled-bg-color: #DDD;\n",
              "  }\n",
              "\n",
              "  [theme=dark] .colab-df-quickchart {\n",
              "      --bg-color: #3B4455;\n",
              "      --fill-color: #D2E3FC;\n",
              "      --hover-bg-color: #434B5C;\n",
              "      --hover-fill-color: #FFFFFF;\n",
              "      --disabled-bg-color: #3B4455;\n",
              "      --disabled-fill-color: #666;\n",
              "  }\n",
              "\n",
              "  .colab-df-quickchart {\n",
              "    background-color: var(--bg-color);\n",
              "    border: none;\n",
              "    border-radius: 50%;\n",
              "    cursor: pointer;\n",
              "    display: none;\n",
              "    fill: var(--fill-color);\n",
              "    height: 32px;\n",
              "    padding: 0;\n",
              "    width: 32px;\n",
              "  }\n",
              "\n",
              "  .colab-df-quickchart:hover {\n",
              "    background-color: var(--hover-bg-color);\n",
              "    box-shadow: 0 1px 2px rgba(60, 64, 67, 0.3), 0 1px 3px 1px rgba(60, 64, 67, 0.15);\n",
              "    fill: var(--button-hover-fill-color);\n",
              "  }\n",
              "\n",
              "  .colab-df-quickchart-complete:disabled,\n",
              "  .colab-df-quickchart-complete:disabled:hover {\n",
              "    background-color: var(--disabled-bg-color);\n",
              "    fill: var(--disabled-fill-color);\n",
              "    box-shadow: none;\n",
              "  }\n",
              "\n",
              "  .colab-df-spinner {\n",
              "    border: 2px solid var(--fill-color);\n",
              "    border-color: transparent;\n",
              "    border-bottom-color: var(--fill-color);\n",
              "    animation:\n",
              "      spin 1s steps(1) infinite;\n",
              "  }\n",
              "\n",
              "  @keyframes spin {\n",
              "    0% {\n",
              "      border-color: transparent;\n",
              "      border-bottom-color: var(--fill-color);\n",
              "      border-left-color: var(--fill-color);\n",
              "    }\n",
              "    20% {\n",
              "      border-color: transparent;\n",
              "      border-left-color: var(--fill-color);\n",
              "      border-top-color: var(--fill-color);\n",
              "    }\n",
              "    30% {\n",
              "      border-color: transparent;\n",
              "      border-left-color: var(--fill-color);\n",
              "      border-top-color: var(--fill-color);\n",
              "      border-right-color: var(--fill-color);\n",
              "    }\n",
              "    40% {\n",
              "      border-color: transparent;\n",
              "      border-right-color: var(--fill-color);\n",
              "      border-top-color: var(--fill-color);\n",
              "    }\n",
              "    60% {\n",
              "      border-color: transparent;\n",
              "      border-right-color: var(--fill-color);\n",
              "    }\n",
              "    80% {\n",
              "      border-color: transparent;\n",
              "      border-right-color: var(--fill-color);\n",
              "      border-bottom-color: var(--fill-color);\n",
              "    }\n",
              "    90% {\n",
              "      border-color: transparent;\n",
              "      border-bottom-color: var(--fill-color);\n",
              "    }\n",
              "  }\n",
              "</style>\n",
              "\n",
              "      <script>\n",
              "        async function quickchart(key) {\n",
              "          const quickchartButtonEl =\n",
              "            document.querySelector('#' + key + ' button');\n",
              "          quickchartButtonEl.disabled = true;  // To prevent multiple clicks.\n",
              "          quickchartButtonEl.classList.add('colab-df-spinner');\n",
              "          try {\n",
              "            const charts = await google.colab.kernel.invokeFunction(\n",
              "                'suggestCharts', [key], {});\n",
              "          } catch (error) {\n",
              "            console.error('Error during call to suggestCharts:', error);\n",
              "          }\n",
              "          quickchartButtonEl.classList.remove('colab-df-spinner');\n",
              "          quickchartButtonEl.classList.add('colab-df-quickchart-complete');\n",
              "        }\n",
              "        (() => {\n",
              "          let quickchartButtonEl =\n",
              "            document.querySelector('#df-a288c33f-f85a-4094-acca-c39d452fc513 button');\n",
              "          quickchartButtonEl.style.display =\n",
              "            google.colab.kernel.accessAllowed ? 'block' : 'none';\n",
              "        })();\n",
              "      </script>\n",
              "    </div>\n",
              "\n",
              "    </div>\n",
              "  </div>\n"
            ],
            "application/vnd.google.colaboratory.intrinsic+json": {
              "type": "dataframe",
              "variable_name": "df"
            }
          },
          "metadata": {},
          "execution_count": 21
        }
      ]
    },
    {
      "cell_type": "markdown",
      "source": [
        "**SUMMARY(INFOGRAPHICS)**\n",
        "🧠\n",
        "\n",
        "\n",
        " Diabetes & Socio-Demographic Analysis\n",
        "This project analyzes how demographic and lifestyle factors such as gender, age, and income relate to diabetes prevalence using the BRFSS 2015 dataset.\n",
        "\n",
        "Even though the dataset was relatively clean, I applied additional preprocessing, including:\n",
        "\n",
        "Encoding of categorical variables (e.g., gender)\n",
        "\n",
        "Imputation for any inconsistencies or missing values\n",
        "\n",
        "General data cleaning to ensure robustness\n",
        "\n",
        "Key visualizations include:\n",
        "\n",
        "Gender vs Diabetes vs Income\n",
        "\n",
        "Age vs Diabetes\n",
        "\n",
        "Income vs Diabetes\n",
        "\n",
        "These visual insights help uncover trends and inequalities in diabetes risk based on socio-economic factors. The project blends exploratory data analysis (EDA) with real-world health data."
      ],
      "metadata": {
        "id": "IfKHoIQR1MGG"
      }
    },
    {
      "cell_type": "markdown",
      "source": [
        "**MODEL BUILDING AND EVALUATION**"
      ],
      "metadata": {
        "id": "4nV13BSJscXc"
      }
    },
    {
      "cell_type": "markdown",
      "source": [
        "So we gonna be building different models and checking their accuracy. We will be using some of the other columns as our predictve features and modified version of Binary_012  which is Diabetes Binary (reduced to 2 classes) as our target and start modelling."
      ],
      "metadata": {
        "id": "dbVmuU46tPZN"
      }
    },
    {
      "cell_type": "markdown",
      "source": [
        "🎯 What Should Our Model Emphasize?\n",
        "In the context of diabetes prediction, your model should focus on:\n",
        "✅ Minimizing False Negatives\n",
        "Because a false negative means the model says someone does not have diabetes, but they actually do — this is risky and dangerous in healthcare.\n",
        "\n"
      ],
      "metadata": {
        "id": "rQsGnOu-PNCJ"
      }
    },
    {
      "cell_type": "markdown",
      "source": [
        "So our goal is to increase recall for the diabetic class (class 1):\n",
        "Recall (Sensitivity) = TP / (TP + FN)\n",
        "→ How many actual diabetics we correctly identified.\n",
        "\n",
        "🔍 Why Not Just Maximize Accuracy?\n",
        "Accuracy is misleading in imbalanced data.\n",
        "\n",
        "E.g., if 85% are non-diabetics, a dumb model that always says \"not diabetic\" still gets 85% accuracy!\n",
        "\n",
        "But its recall for diabetics will be near zero, which is unacceptable in health applications.\n",
        "\n",
        "✅ So, what’s our model’s main priority?\n",
        "Maximize recall for the diabetic class (class 1), even if that means accepting more false positives.\n",
        "\n",
        "Think: better to warn 5 people unnecessarily than to miss 1 diabetic case."
      ],
      "metadata": {
        "id": "eWzD6aegP3yD"
      }
    },
    {
      "cell_type": "markdown",
      "source": [
        "UPDATED COLUMN WITH MODIFIED CLASSES(DIABETES_BINARY)"
      ],
      "metadata": {
        "id": "MuFQ8OxRQZnr"
      }
    },
    {
      "cell_type": "code",
      "source": [
        "import pandas as pd\n",
        "from sklearn.model_selection import train_test_split\n",
        "from sklearn.preprocessing import StandardScaler\n",
        "from sklearn.ensemble import RandomForestClassifier\n",
        "from sklearn.metrics import classification_report, confusion_matrix\n",
        "\n",
        "# load our dataset\n",
        "df = pd.read_csv(\"diabetes_012_health_indicators_BRFSS2015.csv\")\n",
        "\n",
        "# Merge pre-diabetic and dibetic class\n",
        "df['Diabetes_binary'] = df['Diabetes_012'].apply(lambda x: 1 if x in [1, 2] else 0)\n",
        "df.drop('Diabetes_012', axis=1, inplace=True)"
      ],
      "metadata": {
        "id": "ZhU-cyE9tQS1"
      },
      "execution_count": 22,
      "outputs": []
    },
    {
      "cell_type": "markdown",
      "source": [
        "**In a nutshell; we see the confusion matrix.In that matrix we try to minimize the hue of the bottom-left square(false negatives) i.e keep the color of bottom left square as light as possible(ideally white and false_negatives=0)**"
      ],
      "metadata": {
        "id": "5zfGcff-QT38"
      }
    },
    {
      "cell_type": "markdown",
      "source": [
        "![my aim for diabetes.png](data:image/png;base64,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)"
      ],
      "metadata": {
        "id": "eJ7EqvNRkWdF"
      }
    },
    {
      "cell_type": "markdown",
      "source": [
        "**RANDOM FOREST MODEL**"
      ],
      "metadata": {
        "id": "jj2pGDX7GdlJ"
      }
    },
    {
      "cell_type": "code",
      "source": [
        "#random forest model\n",
        "X = df.drop('Diabetes_binary', axis=1)\n",
        "y = df['Diabetes_binary']\n",
        "\n",
        "# Step 4: Train-test split\n",
        "X_train, X_test, y_train, y_test = train_test_split(X, y, test_size=0.2, random_state=42)\n",
        "\n",
        "# Step 5: Scale the data\n",
        "scaler = StandardScaler()\n",
        "X_train_scaled = scaler.fit_transform(X_train)\n",
        "X_test_scaled = scaler.transform(X_test)\n",
        "\n",
        "# Step 6: Train the model\n",
        "model = RandomForestClassifier(n_estimators=100, random_state=42)\n",
        "model.fit(X_train_scaled, y_train)\n",
        "\n",
        "# Step 7: Predict and evaluate\n",
        "y_pred = model.predict(X_test_scaled)\n",
        "\n",
        "print(\"🔍 Confusion Matrix:\")\n",
        "print(confusion_matrix(y_test, y_pred))\n",
        "\n",
        "print(\"\\n📊 Classification Report:\")\n",
        "print(classification_report(y_test, y_pred))"
      ],
      "metadata": {
        "colab": {
          "base_uri": "https://localhost:8080/"
        },
        "id": "3xvWhiB4vqqI",
        "outputId": "7280f1bc-71a6-4dae-bb8b-2e67dabee7c7"
      },
      "execution_count": 23,
      "outputs": [
        {
          "output_type": "stream",
          "name": "stdout",
          "text": [
            "🔍 Confusion Matrix:\n",
            "[[41100  1695]\n",
            " [ 6264  1677]]\n",
            "\n",
            "📊 Classification Report:\n",
            "              precision    recall  f1-score   support\n",
            "\n",
            "           0       0.87      0.96      0.91     42795\n",
            "           1       0.50      0.21      0.30      7941\n",
            "\n",
            "    accuracy                           0.84     50736\n",
            "   macro avg       0.68      0.59      0.60     50736\n",
            "weighted avg       0.81      0.84      0.82     50736\n",
            "\n"
          ]
        }
      ]
    },
    {
      "cell_type": "code",
      "source": [
        "import seaborn as sns\n",
        "import matplotlib.pyplot as plt\n",
        "from sklearn.metrics import confusion_matrix\n",
        "\n",
        "# Visual representation of confusion matrix\n",
        "cm = confusion_matrix(y_test, y_pred)\n",
        "\n",
        "plt.figure(figsize=(6, 4))\n",
        "sns.heatmap(cm, annot=True, fmt='d', cmap='Blues', xticklabels=[\"Predicted: Non-Diabetic\", \"Predicted: Diabetic\"],\n",
        "            yticklabels=[\"Actual: Non-Diabetic\", \"Actual: Diabetic\"])\n",
        "plt.title(\"Confusion Matrix – Diabetes Prediction using RF\")\n",
        "plt.ylabel(\"Actual\")\n",
        "plt.xlabel(\"Predicted\")\n",
        "plt.show()"
      ],
      "metadata": {
        "colab": {
          "base_uri": "https://localhost:8080/",
          "height": 410
        },
        "id": "-c6R-sUrw74W",
        "outputId": "d477673b-fe1d-4f2a-95d8-1c6a093dd9a0"
      },
      "execution_count": 24,
      "outputs": [
        {
          "output_type": "display_data",
          "data": {
            "text/plain": [
              "<Figure size 600x400 with 2 Axes>"
            ],
            "image/png": "[encoded data removed]"
          },
          "metadata": {}
        }
      ]
    },
    {
      "cell_type": "markdown",
      "source": [
        "The model is fairly accurate at predicting diabetes giving us **84% accuracy**.\n",
        "But we don care much about *accuracy* here.\n",
        "\n",
        " It correctly identifies most diabetic cases and doesn't often give false alarms. However, there’s still some room to improve how well it catches every actual diabetic case. We now make it smarter by removing useless or duplicate-like data and balancing its learning across all types of cases."
      ],
      "metadata": {
        "id": "S5zWj4Jn0bcS"
      }
    },
    {
      "cell_type": "code",
      "source": [
        "import pandas as pd\n",
        "import numpy as np\n",
        "from sklearn.ensemble import RandomForestClassifier\n",
        "from sklearn.model_selection import train_test_split\n",
        "from sklearn.preprocessing import StandardScaler\n",
        "from sklearn.metrics import classification_report, confusion_matrix\n",
        "from sklearn.feature_selection import VarianceThreshold\n",
        "import seaborn as sns\n",
        "import matplotlib.pyplot as plt\n",
        "from sklearn.metrics import confusion_matrix\n",
        "\n",
        "# Drop low-variance features\n",
        "selector = VarianceThreshold(threshold=0.01)  # remove near-constant columns\n",
        "X = df.drop('Diabetes_binary', axis=1)\n",
        "X_var = selector.fit_transform(X)\n",
        "selected_cols = X.columns[selector.get_support()]\n",
        "\n",
        "# Drop highly correlated features\n",
        "X_clean = df[selected_cols]\n",
        "corr_matrix = X_clean.corr().abs()\n",
        "upper = corr_matrix.where(np.triu(np.ones(corr_matrix.shape), k=1).astype(bool))\n",
        "to_drop = [column for column in upper.columns if any(upper[column] > 0.9)]\n",
        "X_clean = X_clean.drop(columns=to_drop)\n",
        "\n",
        "# Final cleaned features\n",
        "y = df['Diabetes_binary']\n",
        "X_cleaned_final = X_clean.copy()\n",
        "\n",
        "# === Step 2: Stratified Split ===\n",
        "X_train, X_test, y_train, y_test = train_test_split(\n",
        "    X_cleaned_final, y, test_size=0.2, random_state=42, stratify=y\n",
        ")\n",
        "\n",
        "scaler = StandardScaler()\n",
        "X_train_scaled = scaler.fit_transform(X_train)\n",
        "X_test_scaled = scaler.transform(X_test)\n",
        "\n",
        "# === Step 4: Train Improved Random Forest ===\n",
        "model = RandomForestClassifier(\n",
        "    n_estimators=300,\n",
        "    max_depth=5,\n",
        "    min_samples_split=5,\n",
        "    min_samples_leaf=4,\n",
        "    max_features='sqrt',\n",
        "    class_weight='balanced',\n",
        "    random_state=42\n",
        ")\n",
        "model.fit(X_train_scaled, y_train)\n",
        "\n",
        "# === Step 5: Evaluate ===\n",
        "y_pred = model.predict(X_test_scaled)\n",
        "\n",
        "print(\"🔍 Confusion Matrix:\")\n",
        "print(confusion_matrix(y_test, y_pred))\n",
        "\n",
        "print(\"\\n📊 Classification Report:\")\n",
        "print(classification_report(y_test, y_pred))\n",
        "\n",
        "cm = confusion_matrix(y_test, y_pred)\n",
        "\n",
        "plt.figure(figsize=(6, 4))\n",
        "sns.heatmap(cm, annot=True, fmt='d', cmap='Blues', xticklabels=[\"Predicted: Non-Diabetic\", \"Predicted: Diabetic\"],\n",
        "            yticklabels=[\"Actual: Non-Diabetic\", \"Actual: Diabetic\"])\n",
        "plt.title(\"Confusion Matrix – Diabetes Prediction with improved RF\")\n",
        "plt.ylabel(\"Actual\")\n",
        "plt.xlabel(\"Predicted\")\n",
        "plt.show()\n",
        "\n",
        "\n",
        "\n"
      ],
      "metadata": {
        "colab": {
          "base_uri": "https://localhost:8080/",
          "height": 653
        },
        "id": "LaJkCRU70aFX",
        "outputId": "549c6b10-807b-4ba5-e039-be87c8628f30"
      },
      "execution_count": 53,
      "outputs": [
        {
          "output_type": "stream",
          "name": "stdout",
          "text": [
            "🔍 Confusion Matrix:\n",
            "[[30086 12655]\n",
            " [ 1856  6139]]\n",
            "\n",
            "📊 Classification Report:\n",
            "              precision    recall  f1-score   support\n",
            "\n",
            "           0       0.94      0.70      0.81     42741\n",
            "           1       0.33      0.77      0.46      7995\n",
            "\n",
            "    accuracy                           0.71     50736\n",
            "   macro avg       0.63      0.74      0.63     50736\n",
            "weighted avg       0.84      0.71      0.75     50736\n",
            "\n"
          ]
        },
        {
          "output_type": "display_data",
          "data": {
            "text/plain": [
              "<Figure size 600x400 with 2 Axes>"
            ],
            "image/png": "[encoded data removed]"
          },
          "metadata": {}
        }
      ]
    },
    {
      "cell_type": "markdown",
      "source": [
        "So here even though our accuracy has decreased after applying stratification and dropping columns with high +ve correlation and less variance.. we are able to detect way **more true positives** which holds more *significance in the medical field*."
      ],
      "metadata": {
        "id": "Ge-Nucsg5H9U"
      }
    },
    {
      "cell_type": "markdown",
      "source": [
        "**XGBOOST ALGORITHM**"
      ],
      "metadata": {
        "id": "RkqZQJ41GRal"
      }
    },
    {
      "cell_type": "code",
      "source": [
        "import xgboost\n",
        "from sklearn.feature_selection import VarianceThreshold\n",
        "from xgboost import XGBClassifier\n",
        "from sklearn.model_selection import train_test_split\n",
        "from sklearn.preprocessing import StandardScaler\n",
        "from sklearn.metrics import classification_report, confusion_matrix\n",
        "import seaborn as sns\n",
        "import matplotlib.pyplot as plt\n",
        "from sklearn.metrics import confusion_matrix\n",
        "\n",
        "\n",
        "X = df.drop('Diabetes_binary', axis=1)\n",
        "y = df['Diabetes_binary']\n",
        "\n",
        "#  Train-test split\n",
        "X_train, X_test, y_train, y_test = train_test_split(X, y, test_size=0.2, random_state=42)\n",
        "\n",
        "# Scale the data\n",
        "scaler = StandardScaler()\n",
        "X_train_scaled = scaler.fit_transform(X_train)\n",
        "X_test_scaled = scaler.transform(X_test)\n",
        "\n",
        "#  Train the model using XGBoost here\n",
        "model = XGBClassifier(n_estimators=100, random_state=42)\n",
        "model.fit(X_train_scaled, y_train)\n",
        "\n",
        "#  Prediction and evaluate\n",
        "y_pred = model.predict(X_test_scaled)\n",
        "\n",
        "print(\"🔍 Confusion Matrix:\")\n",
        "print(confusion_matrix(y_test, y_pred))\n",
        "\n",
        "print(\"\\n📊 Classification Report:\")\n",
        "print(classification_report(y_test, y_pred))\n",
        "\n",
        "# Visual representation of confusion matrix\n",
        "cm = confusion_matrix(y_test, y_pred)\n",
        "\n",
        "plt.figure(figsize=(6, 4))\n",
        "sns.heatmap(cm, annot=True, fmt='d', cmap='Blues', xticklabels=[\"Predicted: Non-Diabetic\", \"Predicted: Diabetic\"],\n",
        "            yticklabels=[\"Actual: Non-Diabetic\", \"Actual: Diabetic\"])\n",
        "plt.title(\"Confusion Matrix – Diabetes Prediction using XG\")\n",
        "plt.ylabel(\"Actual\")\n",
        "plt.xlabel(\"Predicted\")\n",
        "plt.show()\n"
      ],
      "metadata": {
        "colab": {
          "base_uri": "https://localhost:8080/",
          "height": 653
        },
        "id": "363wVC8I5gVa",
        "outputId": "7ffe4051-530f-4b3b-a641-d6687e05ec73"
      },
      "execution_count": 31,
      "outputs": [
        {
          "output_type": "stream",
          "name": "stdout",
          "text": [
            "🔍 Confusion Matrix:\n",
            "[[41483  1312]\n",
            " [ 6236  1705]]\n",
            "\n",
            "📊 Classification Report:\n",
            "              precision    recall  f1-score   support\n",
            "\n",
            "           0       0.87      0.97      0.92     42795\n",
            "           1       0.57      0.21      0.31      7941\n",
            "\n",
            "    accuracy                           0.85     50736\n",
            "   macro avg       0.72      0.59      0.61     50736\n",
            "weighted avg       0.82      0.85      0.82     50736\n",
            "\n"
          ]
        },
        {
          "output_type": "display_data",
          "data": {
            "text/plain": [
              "<Figure size 600x400 with 2 Axes>"
            ],
            "image/png": "[encoded data removed]"
          },
          "metadata": {}
        }
      ]
    },
    {
      "cell_type": "markdown",
      "source": [
        "**⚠️ Key Observations**\n",
        "\n",
        "Class 0 (Non-diabetic): Very well predicted\n",
        "\n",
        "Class 1 (Diabetic): Weak recall.. although there is a slight improv w.r.t random forest model,the model misses most diabetics.\n",
        "\n",
        "This is NOT GOOD in medical contexts where false negatives are dangerous\n",
        "\n"
      ],
      "metadata": {
        "id": "ZMbNBgkE-M55"
      }
    },
    {
      "cell_type": "code",
      "source": [
        "import pandas as pd\n",
        "import xgboost\n",
        "from xgboost import XGBClassifier\n",
        "import numpy as np\n",
        "from sklearn.ensemble import RandomForestClassifier\n",
        "from sklearn.model_selection import train_test_split\n",
        "from sklearn.preprocessing import StandardScaler\n",
        "from sklearn.metrics import classification_report, confusion_matrix\n",
        "from sklearn.feature_selection import VarianceThreshold\n",
        "import seaborn as sns\n",
        "import matplotlib.pyplot as plt\n",
        "from sklearn.metrics import confusion_matrix\n",
        "\n",
        "# Drop low-variance features\n",
        "selector = VarianceThreshold(threshold=0.01)  # remove near-constant columns\n",
        "X = df.drop('Diabetes_binary', axis=1)\n",
        "X_var = selector.fit_transform(X)\n",
        "selected_cols = X.columns[selector.get_support()]\n",
        "\n",
        "# Drop highly correlated features\n",
        "X_clean = df[selected_cols]\n",
        "corr_matrix = X_clean.corr().abs()\n",
        "upper = corr_matrix.where(np.triu(np.ones(corr_matrix.shape), k=1).astype(bool))\n",
        "to_drop = [column for column in upper.columns if any(upper[column] > 0.9)]\n",
        "X_clean = X_clean.drop(columns=to_drop)\n",
        "\n",
        "# Final cleaned features\n",
        "y = df['Diabetes_binary']\n",
        "X_cleaned_final = X_clean.copy()\n",
        "\n",
        "# stratification\n",
        "X_train, X_test, y_train, y_test = train_test_split(\n",
        "    X_cleaned_final, y, test_size=0.2, random_state=42, stratify=y\n",
        ")\n",
        "\n",
        "scaler = StandardScaler()\n",
        "X_train_scaled = scaler.fit_transform(X_train)\n",
        "X_test_scaled = scaler.transform(X_test)\n",
        "\n",
        "\n",
        "model = XGBClassifier(\n",
        "    n_estimators=200,\n",
        "    max_depth=10,\n",
        "    min_samples_split=5,\n",
        "    min_samples_leaf=4,\n",
        "    max_features='log2',\n",
        "    class_weight='balanced',\n",
        "    random_state=42\n",
        ")\n",
        "model.fit(X_train_scaled, y_train)\n",
        "\n",
        "y_pred = model.predict(X_test_scaled)\n",
        "cm=confusion_matrix(y_test, y_pred)\n",
        "\n",
        "print(\"🔍 Confusion Matrix:\")\n",
        "print(confusion_matrix(y_test, y_pred))\n",
        "\n",
        "print(\"\\n📊 Classification Report:\")\n",
        "print(classification_report(y_test, y_pred))\n",
        "\n",
        "cm = confusion_matrix(y_test, y_pred)\n",
        "\n",
        "plt.figure(figsize=(6, 4))\n",
        "sns.heatmap(cm, annot=True, fmt='d', cmap='Blues', xticklabels=[\"Predicted: Non-Diabetic\", \"Predicted: Diabetic\"],\n",
        "            yticklabels=[\"Actual: Non-Diabetic\", \"Actual: Diabetic\"])\n",
        "plt.title(\"Confusion Matrix – Diabetes Prediction using RF params on XG\")\n",
        "plt.ylabel(\"Actual\")\n",
        "plt.xlabel(\"Predicted\")\n",
        "plt.show()\n"
      ],
      "metadata": {
        "colab": {
          "base_uri": "https://localhost:8080/",
          "height": 722
        },
        "id": "mfLk0-LD-XHN",
        "outputId": "00d2bb71-ee6c-4c52-990f-8d9b54e25e32"
      },
      "execution_count": 51,
      "outputs": [
        {
          "output_type": "stream",
          "name": "stderr",
          "text": [
            "/usr/local/lib/python3.11/dist-packages/xgboost/core.py:158: UserWarning: [11:29:19] WARNING: /workspace/src/learner.cc:740: \n",
            "Parameters: { \"class_weight\", \"max_features\", \"min_samples_leaf\", \"min_samples_split\" } are not used.\n",
            "\n",
            "  warnings.warn(smsg, UserWarning)\n"
          ]
        },
        {
          "output_type": "stream",
          "name": "stdout",
          "text": [
            "🔍 Confusion Matrix:\n",
            "[[40750  1991]\n",
            " [ 6100  1895]]\n",
            "\n",
            "📊 Classification Report:\n",
            "              precision    recall  f1-score   support\n",
            "\n",
            "           0       0.87      0.95      0.91     42741\n",
            "           1       0.49      0.24      0.32      7995\n",
            "\n",
            "    accuracy                           0.84     50736\n",
            "   macro avg       0.68      0.60      0.61     50736\n",
            "weighted avg       0.81      0.84      0.82     50736\n",
            "\n"
          ]
        },
        {
          "output_type": "display_data",
          "data": {
            "text/plain": [
              "<Figure size 600x400 with 2 Axes>"
            ],
            "image/png": "[encoded data removed]"
          },
          "metadata": {}
        }
      ]
    },
    {
      "cell_type": "markdown",
      "source": [
        "Well.. there isnt much of an improvement. The main aim of our model is to build one that minimizes **false negatives** but here false negatives still stands at a quite high number."
      ],
      "metadata": {
        "id": "J90MW4pUEnnP"
      }
    },
    {
      "cell_type": "markdown",
      "source": [
        "XGBoost doesn't work well here because your dataset is highly imbalanithout ced, and by default, XGBoost treats all classes equally. However XGBoost(w.o tweaks) does better than RandomBoost(w.o tweaks).\n",
        "Doesnt mean that for any *tweak* RF performs well it's just that the tweaks we have applied now made little to no change to the model because **xgboost needs to be finetuned properly**."
      ],
      "metadata": {
        "id": "YEsdqzK9CKk-"
      }
    },
    {
      "cell_type": "markdown",
      "source": [
        "**LOGISTIC REGRESSION**"
      ],
      "metadata": {
        "id": "W0MBEnB7F5QN"
      }
    },
    {
      "cell_type": "code",
      "source": [
        "from sklearn.linear_model import LogisticRegression\n",
        "from sklearn.metrics import classification_report, confusion_matrix\n",
        "import seaborn as sns\n",
        "import matplotlib.pyplot as plt\n",
        "\n",
        "# Prepare data (same as before)\n",
        "X = df.drop('Diabetes_binary', axis=1)\n",
        "y = df['Diabetes_binary']\n",
        "\n",
        "X_train, X_test, y_train, y_test = train_test_split(X, y, test_size=0.2, random_state=42)\n",
        "\n",
        "scaler = StandardScaler()\n",
        "X_train_scaled = scaler.fit_transform(X_train)\n",
        "X_test_scaled = scaler.transform(X_test)\n",
        "\n",
        "# Initialize model with default parameters\n",
        "logreg = LogisticRegression(random_state=42, max_iter=1000)\n",
        "\n",
        "# Training of mdoel\n",
        "logreg.fit(X_train_scaled, y_train)\n",
        "\n",
        "# Predicting model\n",
        "y_pred = logreg.predict(X_test_scaled)\n",
        "\n",
        "# Evaluating it using confusion matrix\n",
        "cm=confusion_matrix(y_test, y_pred)\n",
        "print(\"Confusion Matrix:\")\n",
        "print(confusion_matrix(y_test, y_pred))\n",
        "\n",
        "print(\"\\nClassification Report:\")\n",
        "print(classification_report(y_test, y_pred))\n",
        "\n",
        "# Visual representation of confusion matrix\n",
        "cm = confusion_matrix(y_test, y_pred)\n",
        "\n",
        "plt.figure(figsize=(6, 4))\n",
        "sns.heatmap(cm, annot=True, fmt='d', cmap='Blues', xticklabels=[\"Predicted: Non-Diabetic\", \"Predicted: Diabetic\"],\n",
        "            yticklabels=[\"Actual: Non-Diabetic\", \"Actual: Diabetic\"])\n",
        "plt.title(\"Confusion Matrix – Diabetes Prediction\")\n",
        "plt.ylabel(\"Actual\")\n",
        "plt.xlabel(\"Predicted\")\n",
        "plt.show()"
      ],
      "metadata": {
        "colab": {
          "base_uri": "https://localhost:8080/",
          "height": 653
        },
        "id": "8HIZGMvxIIu5",
        "outputId": "cfa70752-533f-48cc-f710-9a4c42f8af0c"
      },
      "execution_count": 28,
      "outputs": [
        {
          "output_type": "stream",
          "name": "stdout",
          "text": [
            "Confusion Matrix:\n",
            "[[41585  1210]\n",
            " [ 6432  1509]]\n",
            "\n",
            "Classification Report:\n",
            "              precision    recall  f1-score   support\n",
            "\n",
            "           0       0.87      0.97      0.92     42795\n",
            "           1       0.55      0.19      0.28      7941\n",
            "\n",
            "    accuracy                           0.85     50736\n",
            "   macro avg       0.71      0.58      0.60     50736\n",
            "weighted avg       0.82      0.85      0.82     50736\n",
            "\n"
          ]
        },
        {
          "output_type": "display_data",
          "data": {
            "text/plain": [
              "<Figure size 600x400 with 2 Axes>"
            ],
            "image/png": "[encoded data removed]"
          },
          "metadata": {}
        }
      ]
    },
    {
      "cell_type": "markdown",
      "source": [
        "*We still we have a lot of false negatives which opposes the primary aim of our model which is to have ideal recall and minimize false negatives as much as possible.*"
      ],
      "metadata": {
        "id": "EZjSyVTtKjMb"
      }
    },
    {
      "cell_type": "markdown",
      "source": [
        "**logistic regression(updated params)**"
      ],
      "metadata": {
        "id": "-4IPrBIkr2V6"
      }
    },
    {
      "cell_type": "code",
      "source": [
        "from sklearn.linear_model import LogisticRegression\n",
        "from sklearn.metrics import classification_report, confusion_matrix\n",
        "import seaborn as sns\n",
        "import matplotlib.pyplot as plt\n",
        "\n",
        "# Data prep same as above\n",
        "\n",
        "# Initialize model with tweaks\n",
        "logreg_tweaked = LogisticRegression(\n",
        "    random_state=42,\n",
        "    max_iter=1000,\n",
        "    class_weight='balanced',  # gives more weights to classes that have lesser frequencies i.e sample has 90 freq. then weight will be less compared to sample with 60 freqs\n",
        "    #so like underdog classes also get recognized get me?\n",
        "    solver='lbfgs'#simple optimization method\n",
        ")\n",
        "\n",
        "# Training of model\n",
        "logreg_tweaked.fit(X_train_scaled, y_train)\n",
        "\n",
        "# Predictions\n",
        "y_pred_tweaked = logreg_tweaked.predict(X_test_scaled)\n",
        "\n",
        "cm=confusion_matrix(y_test, y_pred_tweaked)\n",
        "print(\"Confusion Matrix:\")\n",
        "print(confusion_matrix(y_test, y_pred_tweaked))\n",
        "\n",
        "print(\"\\nClassification Report:\")\n",
        "print(classification_report(y_test, y_pred_tweaked))\n",
        "\n",
        "plt.figure(figsize=(6, 4))\n",
        "sns.heatmap(cm, annot=True, fmt='d', cmap='Blues', xticklabels=[\"Predicted: Non-Diabetic\", \"Predicted: Diabetic\"],\n",
        "            yticklabels=[\"Actual: Non-Diabetic\", \"Actual: Diabetic\"])\n",
        "plt.title(\"Confusion Matrix – Diabetes Prediction:LogisticR\")\n",
        "plt.ylabel(\"Actual\")\n",
        "plt.xlabel(\"Predicted\")\n",
        "plt.show()\n"
      ],
      "metadata": {
        "colab": {
          "base_uri": "https://localhost:8080/",
          "height": 653
        },
        "id": "e0you5M1KV1y",
        "outputId": "a460196c-37ae-42b1-843d-f17cf8d8c29e"
      },
      "execution_count": 29,
      "outputs": [
        {
          "output_type": "stream",
          "name": "stdout",
          "text": [
            "Confusion Matrix:\n",
            "[[30878 11917]\n",
            " [ 1839  6102]]\n",
            "\n",
            "Classification Report:\n",
            "              precision    recall  f1-score   support\n",
            "\n",
            "           0       0.94      0.72      0.82     42795\n",
            "           1       0.34      0.77      0.47      7941\n",
            "\n",
            "    accuracy                           0.73     50736\n",
            "   macro avg       0.64      0.74      0.64     50736\n",
            "weighted avg       0.85      0.73      0.76     50736\n",
            "\n"
          ]
        },
        {
          "output_type": "display_data",
          "data": {
            "text/plain": [
              "<Figure size 600x400 with 2 Axes>"
            ],
            "image/png": "[encoded data removed]"
          },
          "metadata": {}
        }
      ]
    },
    {
      "cell_type": "markdown",
      "source": [
        "Our model has improved loads w.r.t to minimizing false negatives. Tweaks have done a good job in minimisation of false negatives."
      ],
      "metadata": {
        "id": "z0DEKwwDRlSw"
      }
    },
    {
      "cell_type": "markdown",
      "source": [
        "XGboost however is the most powerful model out of the 3 and with tweaks that help it deal with class imbalance better we can make the model minimize false negatives *way higher*. So by focusing more on minority class(diabetics) and  applying logloss instead of sqrt as it happens to be more stable for **binary classification** keeping similar features."
      ],
      "metadata": {
        "id": "Dxh0QYQeTzqB"
      }
    },
    {
      "cell_type": "markdown",
      "source": [
        "**XGBOOST WITH FINETUNING**"
      ],
      "metadata": {
        "id": "GKKE0UXBTrQf"
      }
    },
    {
      "cell_type": "code",
      "source": [
        "import pandas as pd\n",
        "import xgboost\n",
        "from xgboost import XGBClassifier\n",
        "import numpy as np\n",
        "from sklearn.ensemble import RandomForestClassifier\n",
        "from sklearn.model_selection import train_test_split\n",
        "from sklearn.preprocessing import StandardScaler\n",
        "from sklearn.metrics import classification_report, confusion_matrix\n",
        "from sklearn.feature_selection import VarianceThreshold\n",
        "import seaborn as sns\n",
        "import matplotlib.pyplot as plt\n",
        "from sklearn.metrics import confusion_matrix\n",
        "\n",
        "# Drop low-variance features\n",
        "selector = VarianceThreshold(threshold=0.01)  # remove near-constant columns\n",
        "X = df.drop('Diabetes_binary', axis=1)\n",
        "X_var = selector.fit_transform(X)\n",
        "selected_cols = X.columns[selector.get_support()]\n",
        "\n",
        "# Drop highly correlated features\n",
        "X_clean = df[selected_cols]\n",
        "corr_matrix = X_clean.corr().abs()\n",
        "upper = corr_matrix.where(np.triu(np.ones(corr_matrix.shape), k=1).astype(bool))\n",
        "to_drop = [column for column in upper.columns if any(upper[column] > 0.9)]\n",
        "X_clean = X_clean.drop(columns=to_drop)\n",
        "\n",
        "# Final cleaned features\n",
        "y = df['Diabetes_binary']\n",
        "X_cleaned_final = X_clean.copy()\n",
        "\n",
        "# stratification\n",
        "X_train, X_test, y_train, y_test = train_test_split(\n",
        "    X_cleaned_final, y, test_size=0.2, random_state=42, stratify=y\n",
        ")\n",
        "\n",
        "scaler = StandardScaler()\n",
        "X_train_scaled = scaler.fit_transform(X_train)\n",
        "X_test_scaled = scaler.transform(X_test)\n",
        "\n",
        "neg_count = (y_train == 0).sum()\n",
        "pos_count = (y_train == 1).sum()\n",
        "\n",
        "\n",
        "model=XGBClassifier(\n",
        "    n_estimators=300,         # More trees for better learning\n",
        "    learning_rate=0.05,       # Smaller steps for better generalization\n",
        "    max_depth=4,\n",
        "    subsample=0.9,\n",
        "    colsample_bytree=0.6,\n",
        "    scale_pos_weight=neg_count/pos_count,\n",
        "    random_state=42,\n",
        "    eval_metric='logloss'     # More stable for binary classification\n",
        ")\n",
        "model.fit(X_train_scaled, y_train)\n",
        "\n",
        "y_pred = model.predict(X_test_scaled)\n",
        "cm=confusion_matrix(y_test, y_pred)\n",
        "\n",
        "print(\"🔍 Confusion Matrix:\")\n",
        "print(confusion_matrix(y_test, y_pred))\n",
        "\n",
        "print(\"\\n📊 Classification Report:\")\n",
        "print(classification_report(y_test, y_pred))\n",
        "\n",
        "cm = confusion_matrix(y_test, y_pred)\n",
        "\n",
        "plt.figure(figsize=(6, 4))\n",
        "sns.heatmap(cm, annot=True, fmt='d', cmap='Blues', xticklabels=[\"Predicted: Non-Diabetic\", \"Predicted: Diabetic\"],\n",
        "            yticklabels=[\"Actual: Non-Diabetic\", \"Actual: Diabetic\"])\n",
        "plt.title(\"Confusion Matrix – Diabetes Prediction using RF params on XG\")\n",
        "plt.ylabel(\"Actual\")\n",
        "plt.xlabel(\"Predicted\")\n",
        "plt.show()\n"
      ],
      "metadata": {
        "colab": {
          "base_uri": "https://localhost:8080/",
          "height": 653
        },
        "outputId": "9dbfcaa1-d84b-4fff-f523-5da4d0cb3c6a",
        "id": "00LDIiMGc7Yd"
      },
      "execution_count": 50,
      "outputs": [
        {
          "output_type": "stream",
          "name": "stdout",
          "text": [
            "🔍 Confusion Matrix:\n",
            "[[30326 12415]\n",
            " [ 1710  6285]]\n",
            "\n",
            "📊 Classification Report:\n",
            "              precision    recall  f1-score   support\n",
            "\n",
            "           0       0.95      0.71      0.81     42741\n",
            "           1       0.34      0.79      0.47      7995\n",
            "\n",
            "    accuracy                           0.72     50736\n",
            "   macro avg       0.64      0.75      0.64     50736\n",
            "weighted avg       0.85      0.72      0.76     50736\n",
            "\n"
          ]
        },
        {
          "output_type": "display_data",
          "data": {
            "text/plain": [
              "<Figure size 600x400 with 2 Axes>"
            ],
            "image/png": "[encoded data removed]"
          },
          "metadata": {}
        }
      ]
    },
    {
      "cell_type": "markdown",
      "source": [
        "Yess! So with finetuning we can see that XGBoost performs **the best** for this dataset as it has minimized the false negatives to the best degree. The finetuning of features has taken our model to *the next level*.\n",
        "The main changes we implemented:\n",
        "\n",
        "* Increase the subsample value i.e  bigger subset  of training data for each tre\n",
        " (Sweet spot of subsample being 3 to 5)\n",
        "\n",
        "* Decreased colsample value i.e im choosing lesser no. of features for each tree now to prevent overfitting\n",
        "\n",
        "* As our classes are very imbalanced in the dataset (people with diabetes<< w.o diabetes) the balanced weights variable will essentially make the model so much better\n",
        "* Increased estimators\n",
        "\n",
        "* ps, it requires careful tuning (e.g., scale_pos_weight, learning rate, depth) to handle class imbalance effectively."
      ],
      "metadata": {
        "id": "tV3W8ObohJLq"
      }
    },
    {
      "cell_type": "markdown",
      "source": [
        "**RANKINGS w.r.t to IDEAL Model for Dataset (HIGH RECALL):**\n",
        "\n",
        "1.XGBOOST\n",
        "\n",
        "2.LOGISTIC REGRESSION\n",
        "\n",
        "3.RF"
      ],
      "metadata": {
        "id": "2uzYp-BgwXBX"
      }
    },
    {
      "cell_type": "markdown",
      "source": [
        "**MODEL SUMMARY**"
      ],
      "metadata": {
        "id": "4Y07Ps1wx38F"
      }
    },
    {
      "cell_type": "markdown",
      "source": [
        "\n",
        "\n",
        "\n",
        "✅ Why Logistic Regression Outperformed Random Forest\n",
        "\n",
        "Linearly Separable Data :\n",
        "The dataset shows clear trends (e.g., higher BMI → higher diabetes risk), which linear models like Logistic Regression capture efficiently.\n",
        "\n",
        "Less Overfitting :\n",
        "Random Forest may overfit noisy or irrelevant features, especially when many input variables are binary.\n",
        "\n",
        "Balanced Learning :\n",
        "Logistic Regression handles class imbalance naturally through regularization, while tree-based models often need extra tuning (class_weight='balanced').\n",
        "\n",
        "\n",
        "\n",
        "\n",
        "\n",
        "\n"
      ],
      "metadata": {
        "id": "pu2Q7bQrw6Y8"
      }
    },
    {
      "cell_type": "markdown",
      "source": [
        "🚀 Why XGBoost Outperformed Both\n",
        "\n",
        "Smart Tree Building :\n",
        "XGBoost builds trees sequentially to correct errors, reducing bias and variance effectively.\n",
        "\n",
        "Captures Feature Interactions :\n",
        "In health data, combinations like HighBP + HighChol + Age are strong predictors — XGBoost excels at detecting such interactions.\n",
        "\n",
        "Tunable & Robust :\n",
        "With proper hyperparameter tuning (learning_rate, max_depth, n_estimators), XGBoost adapts well to complex patterns in the data."
      ],
      "metadata": {
        "id": "k1JOO71Ux2Cf"
      }
    },
    {
      "cell_type": "markdown",
      "source": [
        "💡 Key Takeaway:\n",
        "\n",
        " Simple ≠ Weak : Logistic Regression works well on clean, trend-driven data.\n",
        " Tree Models Need Careful Tuning : Especially with binary/ordinal features.\n",
        " XGBoost is Powerful but Requires Optimization : Use GridSearchCV or Bayesian optimization for best results."
      ],
      "metadata": {
        "id": "zP73nkiJxyNE"
      }
    },
    {
      "cell_type": "markdown",
      "source": [],
      "metadata": {
        "id": "3A_UAhsMx6MS"
      }
    }
  ]
}